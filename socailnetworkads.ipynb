{
  "nbformat": 4,
  "nbformat_minor": 0,
  "metadata": {
    "colab": {
      "provenance": [],
      "collapsed_sections": [],
      "authorship_tag": "ABX9TyPQwNWGSodM0dxW9haSW1mm",
      "include_colab_link": true
    },
    "kernelspec": {
      "name": "python3",
      "display_name": "Python 3"
    },
    "language_info": {
      "name": "python"
    }
  },
  "cells": [
    {
      "cell_type": "markdown",
      "metadata": {
        "id": "view-in-github",
        "colab_type": "text"
      },
      "source": [
        "<a href=\"https://colab.research.google.com/github/EmanSalah2000/SocialNetworkAds/blob/main/socailnetworkads.ipynb\" target=\"_parent\"><img src=\"https://colab.research.google.com/assets/colab-badge.svg\" alt=\"Open In Colab\"/></a>"
      ]
    },
    {
      "cell_type": "code",
      "source": [
        "from google.colab import drive\n",
        "drive.mount('/content/drive')"
      ],
      "metadata": {
        "colab": {
          "base_uri": "https://localhost:8080/"
        },
        "id": "RWyD3c8NCvv2",
        "outputId": "07af144a-72ab-4025-dad8-1eab860c0a5a"
      },
      "execution_count": 1,
      "outputs": [
        {
          "output_type": "stream",
          "name": "stdout",
          "text": [
            "Drive already mounted at /content/drive; to attempt to forcibly remount, call drive.mount(\"/content/drive\", force_remount=True).\n"
          ]
        }
      ]
    },
    {
      "cell_type": "markdown",
      "source": [
        "# **1. import libraries**"
      ],
      "metadata": {
        "id": "IjrWhOTqics-"
      }
    },
    {
      "cell_type": "code",
      "source": [
        "import numpy  as np\n",
        "import pandas as pd\n",
        "import matplotlib.pyplot as plt\n",
        "from sklearn.model_selection import train_test_split\n",
        "import seaborn as sns\n",
        "\n",
        "\n",
        "from sklearn.model_selection import cross_val_score,KFold\n",
        "\n",
        "\n",
        "from sklearn.naive_bayes import GaussianNB\n",
        "from sklearn.metrics import accuracy_score\n",
        "from sklearn import svm\n",
        "from sklearn.linear_model import LogisticRegression\n",
        "\n",
        "\n",
        "from tensorflow.keras.layers import Dense\n",
        "from tensorflow.keras.models import Sequential\n",
        "from sklearn.metrics import accuracy_score\n",
        "from sklearn.preprocessing import OneHotEncoder"
      ],
      "metadata": {
        "id": "qUIBR24dC9JV"
      },
      "execution_count": 2,
      "outputs": []
    },
    {
      "cell_type": "markdown",
      "source": [
        "# **2. read data**"
      ],
      "metadata": {
        "id": "L0mUhFLXqdvM"
      }
    },
    {
      "cell_type": "code",
      "source": [
        "data=pd.read_csv('/content/drive/MyDrive/Social_Network_Ads.csv')"
      ],
      "metadata": {
        "id": "53LZmXLiDKu0"
      },
      "execution_count": 3,
      "outputs": []
    },
    {
      "cell_type": "markdown",
      "source": [
        "# **3. prepare  and analysis the data**"
      ],
      "metadata": {
        "id": "23HxakOMqh4i"
      }
    },
    {
      "cell_type": "code",
      "source": [
        "data.head()"
      ],
      "metadata": {
        "colab": {
          "base_uri": "https://localhost:8080/",
          "height": 206
        },
        "id": "UnuSRMNJESDk",
        "outputId": "73270742-0282-4735-d6c8-c78804eda734"
      },
      "execution_count": 4,
      "outputs": [
        {
          "output_type": "execute_result",
          "data": {
            "text/plain": [
              "    User ID  Gender  Age  EstimatedSalary  Purchased\n",
              "0  15624510    Male   19            19000          0\n",
              "1  15810944    Male   35            20000          0\n",
              "2  15668575  Female   26            43000          0\n",
              "3  15603246  Female   27            57000          0\n",
              "4  15804002    Male   19            76000          0"
            ],
            "text/html": [
              "\n",
              "  <div id=\"df-9b71e26b-ea86-4abd-9cdb-f62000b03bb6\">\n",
              "    <div class=\"colab-df-container\">\n",
              "      <div>\n",
              "<style scoped>\n",
              "    .dataframe tbody tr th:only-of-type {\n",
              "        vertical-align: middle;\n",
              "    }\n",
              "\n",
              "    .dataframe tbody tr th {\n",
              "        vertical-align: top;\n",
              "    }\n",
              "\n",
              "    .dataframe thead th {\n",
              "        text-align: right;\n",
              "    }\n",
              "</style>\n",
              "<table border=\"1\" class=\"dataframe\">\n",
              "  <thead>\n",
              "    <tr style=\"text-align: right;\">\n",
              "      <th></th>\n",
              "      <th>User ID</th>\n",
              "      <th>Gender</th>\n",
              "      <th>Age</th>\n",
              "      <th>EstimatedSalary</th>\n",
              "      <th>Purchased</th>\n",
              "    </tr>\n",
              "  </thead>\n",
              "  <tbody>\n",
              "    <tr>\n",
              "      <th>0</th>\n",
              "      <td>15624510</td>\n",
              "      <td>Male</td>\n",
              "      <td>19</td>\n",
              "      <td>19000</td>\n",
              "      <td>0</td>\n",
              "    </tr>\n",
              "    <tr>\n",
              "      <th>1</th>\n",
              "      <td>15810944</td>\n",
              "      <td>Male</td>\n",
              "      <td>35</td>\n",
              "      <td>20000</td>\n",
              "      <td>0</td>\n",
              "    </tr>\n",
              "    <tr>\n",
              "      <th>2</th>\n",
              "      <td>15668575</td>\n",
              "      <td>Female</td>\n",
              "      <td>26</td>\n",
              "      <td>43000</td>\n",
              "      <td>0</td>\n",
              "    </tr>\n",
              "    <tr>\n",
              "      <th>3</th>\n",
              "      <td>15603246</td>\n",
              "      <td>Female</td>\n",
              "      <td>27</td>\n",
              "      <td>57000</td>\n",
              "      <td>0</td>\n",
              "    </tr>\n",
              "    <tr>\n",
              "      <th>4</th>\n",
              "      <td>15804002</td>\n",
              "      <td>Male</td>\n",
              "      <td>19</td>\n",
              "      <td>76000</td>\n",
              "      <td>0</td>\n",
              "    </tr>\n",
              "  </tbody>\n",
              "</table>\n",
              "</div>\n",
              "      <button class=\"colab-df-convert\" onclick=\"convertToInteractive('df-9b71e26b-ea86-4abd-9cdb-f62000b03bb6')\"\n",
              "              title=\"Convert this dataframe to an interactive table.\"\n",
              "              style=\"display:none;\">\n",
              "        \n",
              "  <svg xmlns=\"http://www.w3.org/2000/svg\" height=\"24px\"viewBox=\"0 0 24 24\"\n",
              "       width=\"24px\">\n",
              "    <path d=\"M0 0h24v24H0V0z\" fill=\"none\"/>\n",
              "    <path d=\"M18.56 5.44l.94 2.06.94-2.06 2.06-.94-2.06-.94-.94-2.06-.94 2.06-2.06.94zm-11 1L8.5 8.5l.94-2.06 2.06-.94-2.06-.94L8.5 2.5l-.94 2.06-2.06.94zm10 10l.94 2.06.94-2.06 2.06-.94-2.06-.94-.94-2.06-.94 2.06-2.06.94z\"/><path d=\"M17.41 7.96l-1.37-1.37c-.4-.4-.92-.59-1.43-.59-.52 0-1.04.2-1.43.59L10.3 9.45l-7.72 7.72c-.78.78-.78 2.05 0 2.83L4 21.41c.39.39.9.59 1.41.59.51 0 1.02-.2 1.41-.59l7.78-7.78 2.81-2.81c.8-.78.8-2.07 0-2.86zM5.41 20L4 18.59l7.72-7.72 1.47 1.35L5.41 20z\"/>\n",
              "  </svg>\n",
              "      </button>\n",
              "      \n",
              "  <style>\n",
              "    .colab-df-container {\n",
              "      display:flex;\n",
              "      flex-wrap:wrap;\n",
              "      gap: 12px;\n",
              "    }\n",
              "\n",
              "    .colab-df-convert {\n",
              "      background-color: #E8F0FE;\n",
              "      border: none;\n",
              "      border-radius: 50%;\n",
              "      cursor: pointer;\n",
              "      display: none;\n",
              "      fill: #1967D2;\n",
              "      height: 32px;\n",
              "      padding: 0 0 0 0;\n",
              "      width: 32px;\n",
              "    }\n",
              "\n",
              "    .colab-df-convert:hover {\n",
              "      background-color: #E2EBFA;\n",
              "      box-shadow: 0px 1px 2px rgba(60, 64, 67, 0.3), 0px 1px 3px 1px rgba(60, 64, 67, 0.15);\n",
              "      fill: #174EA6;\n",
              "    }\n",
              "\n",
              "    [theme=dark] .colab-df-convert {\n",
              "      background-color: #3B4455;\n",
              "      fill: #D2E3FC;\n",
              "    }\n",
              "\n",
              "    [theme=dark] .colab-df-convert:hover {\n",
              "      background-color: #434B5C;\n",
              "      box-shadow: 0px 1px 3px 1px rgba(0, 0, 0, 0.15);\n",
              "      filter: drop-shadow(0px 1px 2px rgba(0, 0, 0, 0.3));\n",
              "      fill: #FFFFFF;\n",
              "    }\n",
              "  </style>\n",
              "\n",
              "      <script>\n",
              "        const buttonEl =\n",
              "          document.querySelector('#df-9b71e26b-ea86-4abd-9cdb-f62000b03bb6 button.colab-df-convert');\n",
              "        buttonEl.style.display =\n",
              "          google.colab.kernel.accessAllowed ? 'block' : 'none';\n",
              "\n",
              "        async function convertToInteractive(key) {\n",
              "          const element = document.querySelector('#df-9b71e26b-ea86-4abd-9cdb-f62000b03bb6');\n",
              "          const dataTable =\n",
              "            await google.colab.kernel.invokeFunction('convertToInteractive',\n",
              "                                                     [key], {});\n",
              "          if (!dataTable) return;\n",
              "\n",
              "          const docLinkHtml = 'Like what you see? Visit the ' +\n",
              "            '<a target=\"_blank\" href=https://colab.research.google.com/notebooks/data_table.ipynb>data table notebook</a>'\n",
              "            + ' to learn more about interactive tables.';\n",
              "          element.innerHTML = '';\n",
              "          dataTable['output_type'] = 'display_data';\n",
              "          await google.colab.output.renderOutput(dataTable, element);\n",
              "          const docLink = document.createElement('div');\n",
              "          docLink.innerHTML = docLinkHtml;\n",
              "          element.appendChild(docLink);\n",
              "        }\n",
              "      </script>\n",
              "    </div>\n",
              "  </div>\n",
              "  "
            ]
          },
          "metadata": {},
          "execution_count": 4
        }
      ]
    },
    {
      "cell_type": "code",
      "source": [
        "print(np.min(data['Age']))\n",
        "print(np.max(data['Age']))\n",
        "print(np.min(data['EstimatedSalary']))\n",
        "print(np.max(data['EstimatedSalary']))"
      ],
      "metadata": {
        "colab": {
          "base_uri": "https://localhost:8080/"
        },
        "id": "eNUtXE3bufyd",
        "outputId": "04d1d607-eca0-4846-b097-5eb0457edb2a"
      },
      "execution_count": 5,
      "outputs": [
        {
          "output_type": "stream",
          "name": "stdout",
          "text": [
            "18\n",
            "60\n",
            "15000\n",
            "150000\n"
          ]
        }
      ]
    },
    {
      "cell_type": "code",
      "source": [
        "plt.hist(data['EstimatedSalary'])\n",
        "plt.show()"
      ],
      "metadata": {
        "colab": {
          "base_uri": "https://localhost:8080/",
          "height": 265
        },
        "id": "X_qvtq72xvZM",
        "outputId": "dd652c23-17cc-4ca5-8294-57baf89b213b"
      },
      "execution_count": 6,
      "outputs": [
        {
          "output_type": "display_data",
          "data": {
            "text/plain": [
              "<Figure size 432x288 with 1 Axes>"
            ],
            "image/png": "[encoded data removed]"
          },
          "metadata": {
            "needs_background": "light"
          }
        }
      ]
    },
    {
      "cell_type": "code",
      "source": [
        "plt.hist(data['Age'])\n",
        "plt.show()"
      ],
      "metadata": {
        "colab": {
          "base_uri": "https://localhost:8080/",
          "height": 267
        },
        "id": "-Wyb2XivxvKH",
        "outputId": "f479d6ff-f4c4-456c-ff74-8b3da50838d0"
      },
      "execution_count": 7,
      "outputs": [
        {
          "output_type": "display_data",
          "data": {
            "text/plain": [
              "<Figure size 432x288 with 1 Axes>"
            ],
            "image/png": "[encoded data removed]"
          },
          "metadata": {
            "needs_background": "light"
          }
        }
      ]
    },
    {
      "cell_type": "code",
      "source": [
        "data['Gender']=data['Gender'].map({'Male': 1, 'Female': 0})\n",
        "data['EstimatedSalary'] = (data['EstimatedSalary'] - data['EstimatedSalary'].mean()) / data['EstimatedSalary'].std() \n",
        "data['Age'] = (data['Age'] - data['Age'].mean()) / data['Age'].std() "
      ],
      "metadata": {
        "id": "15WCe9FzEZN-"
      },
      "execution_count": 8,
      "outputs": []
    },
    {
      "cell_type": "code",
      "source": [
        "data.head()"
      ],
      "metadata": {
        "colab": {
          "base_uri": "https://localhost:8080/",
          "height": 206
        },
        "id": "91NuF-6euAgH",
        "outputId": "a7138ac0-f231-4e7e-c843-c7c3e1513e83"
      },
      "execution_count": 9,
      "outputs": [
        {
          "output_type": "execute_result",
          "data": {
            "text/plain": [
              "    User ID  Gender       Age  EstimatedSalary  Purchased\n",
              "0  15624510       1 -1.779569        -1.488183          0\n",
              "1  15810944       1 -0.253270        -1.458854          0\n",
              "2  15668575       0 -1.111813        -0.784307          0\n",
              "3  15603246       0 -1.016419        -0.373714          0\n",
              "4  15804002       1 -1.779569         0.183521          0"
            ],
            "text/html": [
              "\n",
              "  <div id=\"df-7b6f7845-42a4-4f9a-a538-510418fb47d9\">\n",
              "    <div class=\"colab-df-container\">\n",
              "      <div>\n",
              "<style scoped>\n",
              "    .dataframe tbody tr th:only-of-type {\n",
              "        vertical-align: middle;\n",
              "    }\n",
              "\n",
              "    .dataframe tbody tr th {\n",
              "        vertical-align: top;\n",
              "    }\n",
              "\n",
              "    .dataframe thead th {\n",
              "        text-align: right;\n",
              "    }\n",
              "</style>\n",
              "<table border=\"1\" class=\"dataframe\">\n",
              "  <thead>\n",
              "    <tr style=\"text-align: right;\">\n",
              "      <th></th>\n",
              "      <th>User ID</th>\n",
              "      <th>Gender</th>\n",
              "      <th>Age</th>\n",
              "      <th>EstimatedSalary</th>\n",
              "      <th>Purchased</th>\n",
              "    </tr>\n",
              "  </thead>\n",
              "  <tbody>\n",
              "    <tr>\n",
              "      <th>0</th>\n",
              "      <td>15624510</td>\n",
              "      <td>1</td>\n",
              "      <td>-1.779569</td>\n",
              "      <td>-1.488183</td>\n",
              "      <td>0</td>\n",
              "    </tr>\n",
              "    <tr>\n",
              "      <th>1</th>\n",
              "      <td>15810944</td>\n",
              "      <td>1</td>\n",
              "      <td>-0.253270</td>\n",
              "      <td>-1.458854</td>\n",
              "      <td>0</td>\n",
              "    </tr>\n",
              "    <tr>\n",
              "      <th>2</th>\n",
              "      <td>15668575</td>\n",
              "      <td>0</td>\n",
              "      <td>-1.111813</td>\n",
              "      <td>-0.784307</td>\n",
              "      <td>0</td>\n",
              "    </tr>\n",
              "    <tr>\n",
              "      <th>3</th>\n",
              "      <td>15603246</td>\n",
              "      <td>0</td>\n",
              "      <td>-1.016419</td>\n",
              "      <td>-0.373714</td>\n",
              "      <td>0</td>\n",
              "    </tr>\n",
              "    <tr>\n",
              "      <th>4</th>\n",
              "      <td>15804002</td>\n",
              "      <td>1</td>\n",
              "      <td>-1.779569</td>\n",
              "      <td>0.183521</td>\n",
              "      <td>0</td>\n",
              "    </tr>\n",
              "  </tbody>\n",
              "</table>\n",
              "</div>\n",
              "      <button class=\"colab-df-convert\" onclick=\"convertToInteractive('df-7b6f7845-42a4-4f9a-a538-510418fb47d9')\"\n",
              "              title=\"Convert this dataframe to an interactive table.\"\n",
              "              style=\"display:none;\">\n",
              "        \n",
              "  <svg xmlns=\"http://www.w3.org/2000/svg\" height=\"24px\"viewBox=\"0 0 24 24\"\n",
              "       width=\"24px\">\n",
              "    <path d=\"M0 0h24v24H0V0z\" fill=\"none\"/>\n",
              "    <path d=\"M18.56 5.44l.94 2.06.94-2.06 2.06-.94-2.06-.94-.94-2.06-.94 2.06-2.06.94zm-11 1L8.5 8.5l.94-2.06 2.06-.94-2.06-.94L8.5 2.5l-.94 2.06-2.06.94zm10 10l.94 2.06.94-2.06 2.06-.94-2.06-.94-.94-2.06-.94 2.06-2.06.94z\"/><path d=\"M17.41 7.96l-1.37-1.37c-.4-.4-.92-.59-1.43-.59-.52 0-1.04.2-1.43.59L10.3 9.45l-7.72 7.72c-.78.78-.78 2.05 0 2.83L4 21.41c.39.39.9.59 1.41.59.51 0 1.02-.2 1.41-.59l7.78-7.78 2.81-2.81c.8-.78.8-2.07 0-2.86zM5.41 20L4 18.59l7.72-7.72 1.47 1.35L5.41 20z\"/>\n",
              "  </svg>\n",
              "      </button>\n",
              "      \n",
              "  <style>\n",
              "    .colab-df-container {\n",
              "      display:flex;\n",
              "      flex-wrap:wrap;\n",
              "      gap: 12px;\n",
              "    }\n",
              "\n",
              "    .colab-df-convert {\n",
              "      background-color: #E8F0FE;\n",
              "      border: none;\n",
              "      border-radius: 50%;\n",
              "      cursor: pointer;\n",
              "      display: none;\n",
              "      fill: #1967D2;\n",
              "      height: 32px;\n",
              "      padding: 0 0 0 0;\n",
              "      width: 32px;\n",
              "    }\n",
              "\n",
              "    .colab-df-convert:hover {\n",
              "      background-color: #E2EBFA;\n",
              "      box-shadow: 0px 1px 2px rgba(60, 64, 67, 0.3), 0px 1px 3px 1px rgba(60, 64, 67, 0.15);\n",
              "      fill: #174EA6;\n",
              "    }\n",
              "\n",
              "    [theme=dark] .colab-df-convert {\n",
              "      background-color: #3B4455;\n",
              "      fill: #D2E3FC;\n",
              "    }\n",
              "\n",
              "    [theme=dark] .colab-df-convert:hover {\n",
              "      background-color: #434B5C;\n",
              "      box-shadow: 0px 1px 3px 1px rgba(0, 0, 0, 0.15);\n",
              "      filter: drop-shadow(0px 1px 2px rgba(0, 0, 0, 0.3));\n",
              "      fill: #FFFFFF;\n",
              "    }\n",
              "  </style>\n",
              "\n",
              "      <script>\n",
              "        const buttonEl =\n",
              "          document.querySelector('#df-7b6f7845-42a4-4f9a-a538-510418fb47d9 button.colab-df-convert');\n",
              "        buttonEl.style.display =\n",
              "          google.colab.kernel.accessAllowed ? 'block' : 'none';\n",
              "\n",
              "        async function convertToInteractive(key) {\n",
              "          const element = document.querySelector('#df-7b6f7845-42a4-4f9a-a538-510418fb47d9');\n",
              "          const dataTable =\n",
              "            await google.colab.kernel.invokeFunction('convertToInteractive',\n",
              "                                                     [key], {});\n",
              "          if (!dataTable) return;\n",
              "\n",
              "          const docLinkHtml = 'Like what you see? Visit the ' +\n",
              "            '<a target=\"_blank\" href=https://colab.research.google.com/notebooks/data_table.ipynb>data table notebook</a>'\n",
              "            + ' to learn more about interactive tables.';\n",
              "          element.innerHTML = '';\n",
              "          dataTable['output_type'] = 'display_data';\n",
              "          await google.colab.output.renderOutput(dataTable, element);\n",
              "          const docLink = document.createElement('div');\n",
              "          docLink.innerHTML = docLinkHtml;\n",
              "          element.appendChild(docLink);\n",
              "        }\n",
              "      </script>\n",
              "    </div>\n",
              "  </div>\n",
              "  "
            ]
          },
          "metadata": {},
          "execution_count": 9
        }
      ]
    },
    {
      "cell_type": "code",
      "source": [
        "# schuffle the data\n",
        "data=data.sample(frac=1)"
      ],
      "metadata": {
        "id": "PL-bI2B1lTEt"
      },
      "execution_count": 10,
      "outputs": []
    },
    {
      "cell_type": "code",
      "source": [
        "data.head()"
      ],
      "metadata": {
        "colab": {
          "base_uri": "https://localhost:8080/",
          "height": 206
        },
        "id": "SNdxheXcFiMa",
        "outputId": "d6c87ba1-f554-4cb4-bf33-17f4b2204f7b"
      },
      "execution_count": 11,
      "outputs": [
        {
          "output_type": "execute_result",
          "data": {
            "text/plain": [
              "      User ID  Gender       Age  EstimatedSalary  Purchased\n",
              "225  15622171       1 -0.062483        -0.491026          0\n",
              "5    15728773       1 -1.016419        -0.344386          0\n",
              "282  15750447       1 -0.062483         0.007552          1\n",
              "300  15736397       0  1.940784        -0.930948          1\n",
              "214  15622478       1  0.891454        -0.784307          0"
            ],
            "text/html": [
              "\n",
              "  <div id=\"df-bbfb7aad-553f-4c2e-b925-4a9293462871\">\n",
              "    <div class=\"colab-df-container\">\n",
              "      <div>\n",
              "<style scoped>\n",
              "    .dataframe tbody tr th:only-of-type {\n",
              "        vertical-align: middle;\n",
              "    }\n",
              "\n",
              "    .dataframe tbody tr th {\n",
              "        vertical-align: top;\n",
              "    }\n",
              "\n",
              "    .dataframe thead th {\n",
              "        text-align: right;\n",
              "    }\n",
              "</style>\n",
              "<table border=\"1\" class=\"dataframe\">\n",
              "  <thead>\n",
              "    <tr style=\"text-align: right;\">\n",
              "      <th></th>\n",
              "      <th>User ID</th>\n",
              "      <th>Gender</th>\n",
              "      <th>Age</th>\n",
              "      <th>EstimatedSalary</th>\n",
              "      <th>Purchased</th>\n",
              "    </tr>\n",
              "  </thead>\n",
              "  <tbody>\n",
              "    <tr>\n",
              "      <th>225</th>\n",
              "      <td>15622171</td>\n",
              "      <td>1</td>\n",
              "      <td>-0.062483</td>\n",
              "      <td>-0.491026</td>\n",
              "      <td>0</td>\n",
              "    </tr>\n",
              "    <tr>\n",
              "      <th>5</th>\n",
              "      <td>15728773</td>\n",
              "      <td>1</td>\n",
              "      <td>-1.016419</td>\n",
              "      <td>-0.344386</td>\n",
              "      <td>0</td>\n",
              "    </tr>\n",
              "    <tr>\n",
              "      <th>282</th>\n",
              "      <td>15750447</td>\n",
              "      <td>1</td>\n",
              "      <td>-0.062483</td>\n",
              "      <td>0.007552</td>\n",
              "      <td>1</td>\n",
              "    </tr>\n",
              "    <tr>\n",
              "      <th>300</th>\n",
              "      <td>15736397</td>\n",
              "      <td>0</td>\n",
              "      <td>1.940784</td>\n",
              "      <td>-0.930948</td>\n",
              "      <td>1</td>\n",
              "    </tr>\n",
              "    <tr>\n",
              "      <th>214</th>\n",
              "      <td>15622478</td>\n",
              "      <td>1</td>\n",
              "      <td>0.891454</td>\n",
              "      <td>-0.784307</td>\n",
              "      <td>0</td>\n",
              "    </tr>\n",
              "  </tbody>\n",
              "</table>\n",
              "</div>\n",
              "      <button class=\"colab-df-convert\" onclick=\"convertToInteractive('df-bbfb7aad-553f-4c2e-b925-4a9293462871')\"\n",
              "              title=\"Convert this dataframe to an interactive table.\"\n",
              "              style=\"display:none;\">\n",
              "        \n",
              "  <svg xmlns=\"http://www.w3.org/2000/svg\" height=\"24px\"viewBox=\"0 0 24 24\"\n",
              "       width=\"24px\">\n",
              "    <path d=\"M0 0h24v24H0V0z\" fill=\"none\"/>\n",
              "    <path d=\"M18.56 5.44l.94 2.06.94-2.06 2.06-.94-2.06-.94-.94-2.06-.94 2.06-2.06.94zm-11 1L8.5 8.5l.94-2.06 2.06-.94-2.06-.94L8.5 2.5l-.94 2.06-2.06.94zm10 10l.94 2.06.94-2.06 2.06-.94-2.06-.94-.94-2.06-.94 2.06-2.06.94z\"/><path d=\"M17.41 7.96l-1.37-1.37c-.4-.4-.92-.59-1.43-.59-.52 0-1.04.2-1.43.59L10.3 9.45l-7.72 7.72c-.78.78-.78 2.05 0 2.83L4 21.41c.39.39.9.59 1.41.59.51 0 1.02-.2 1.41-.59l7.78-7.78 2.81-2.81c.8-.78.8-2.07 0-2.86zM5.41 20L4 18.59l7.72-7.72 1.47 1.35L5.41 20z\"/>\n",
              "  </svg>\n",
              "      </button>\n",
              "      \n",
              "  <style>\n",
              "    .colab-df-container {\n",
              "      display:flex;\n",
              "      flex-wrap:wrap;\n",
              "      gap: 12px;\n",
              "    }\n",
              "\n",
              "    .colab-df-convert {\n",
              "      background-color: #E8F0FE;\n",
              "      border: none;\n",
              "      border-radius: 50%;\n",
              "      cursor: pointer;\n",
              "      display: none;\n",
              "      fill: #1967D2;\n",
              "      height: 32px;\n",
              "      padding: 0 0 0 0;\n",
              "      width: 32px;\n",
              "    }\n",
              "\n",
              "    .colab-df-convert:hover {\n",
              "      background-color: #E2EBFA;\n",
              "      box-shadow: 0px 1px 2px rgba(60, 64, 67, 0.3), 0px 1px 3px 1px rgba(60, 64, 67, 0.15);\n",
              "      fill: #174EA6;\n",
              "    }\n",
              "\n",
              "    [theme=dark] .colab-df-convert {\n",
              "      background-color: #3B4455;\n",
              "      fill: #D2E3FC;\n",
              "    }\n",
              "\n",
              "    [theme=dark] .colab-df-convert:hover {\n",
              "      background-color: #434B5C;\n",
              "      box-shadow: 0px 1px 3px 1px rgba(0, 0, 0, 0.15);\n",
              "      filter: drop-shadow(0px 1px 2px rgba(0, 0, 0, 0.3));\n",
              "      fill: #FFFFFF;\n",
              "    }\n",
              "  </style>\n",
              "\n",
              "      <script>\n",
              "        const buttonEl =\n",
              "          document.querySelector('#df-bbfb7aad-553f-4c2e-b925-4a9293462871 button.colab-df-convert');\n",
              "        buttonEl.style.display =\n",
              "          google.colab.kernel.accessAllowed ? 'block' : 'none';\n",
              "\n",
              "        async function convertToInteractive(key) {\n",
              "          const element = document.querySelector('#df-bbfb7aad-553f-4c2e-b925-4a9293462871');\n",
              "          const dataTable =\n",
              "            await google.colab.kernel.invokeFunction('convertToInteractive',\n",
              "                                                     [key], {});\n",
              "          if (!dataTable) return;\n",
              "\n",
              "          const docLinkHtml = 'Like what you see? Visit the ' +\n",
              "            '<a target=\"_blank\" href=https://colab.research.google.com/notebooks/data_table.ipynb>data table notebook</a>'\n",
              "            + ' to learn more about interactive tables.';\n",
              "          element.innerHTML = '';\n",
              "          dataTable['output_type'] = 'display_data';\n",
              "          await google.colab.output.renderOutput(dataTable, element);\n",
              "          const docLink = document.createElement('div');\n",
              "          docLink.innerHTML = docLinkHtml;\n",
              "          element.appendChild(docLink);\n",
              "        }\n",
              "      </script>\n",
              "    </div>\n",
              "  </div>\n",
              "  "
            ]
          },
          "metadata": {},
          "execution_count": 11
        }
      ]
    },
    {
      "cell_type": "code",
      "source": [
        "data_set = data[['Age', 'Gender', 'EstimatedSalary','Purchased']].copy()\n"
      ],
      "metadata": {
        "id": "W5OnBckVFniR"
      },
      "execution_count": 12,
      "outputs": []
    },
    {
      "cell_type": "code",
      "source": [
        "print(len(data_set))\n"
      ],
      "metadata": {
        "colab": {
          "base_uri": "https://localhost:8080/"
        },
        "id": "gTrscPozKG9x",
        "outputId": "2d2c28ae-d535-4ad7-a07a-c8e2a946969f"
      },
      "execution_count": 13,
      "outputs": [
        {
          "output_type": "stream",
          "name": "stdout",
          "text": [
            "400\n"
          ]
        }
      ]
    },
    {
      "cell_type": "markdown",
      "source": [
        "# **4. analysis data**\n",
        "1. check missing values\n",
        "2. check outliers \n",
        "3. check duplicates in data"
      ],
      "metadata": {
        "id": "fzDvKlP892xP"
      }
    },
    {
      "cell_type": "code",
      "source": [
        "data_set.isnull().sum()"
      ],
      "metadata": {
        "colab": {
          "base_uri": "https://localhost:8080/"
        },
        "id": "Bv5pNApJ96im",
        "outputId": "7ad23181-907c-4d2d-bdbf-a42326c51135"
      },
      "execution_count": 14,
      "outputs": [
        {
          "output_type": "execute_result",
          "data": {
            "text/plain": [
              "Age                0\n",
              "Gender             0\n",
              "EstimatedSalary    0\n",
              "Purchased          0\n",
              "dtype: int64"
            ]
          },
          "metadata": {},
          "execution_count": 14
        }
      ]
    },
    {
      "cell_type": "code",
      "source": [
        "sns.boxplot(data_set['EstimatedSalary'])"
      ],
      "metadata": {
        "colab": {
          "base_uri": "https://localhost:8080/",
          "height": 353
        },
        "id": "CopmcRZDCQGC",
        "outputId": "bac2cdf3-a568-4e9e-b310-c707ca7f937b"
      },
      "execution_count": 15,
      "outputs": [
        {
          "output_type": "stream",
          "name": "stderr",
          "text": [
            "/usr/local/lib/python3.7/dist-packages/seaborn/_decorators.py:43: FutureWarning: Pass the following variable as a keyword arg: x. From version 0.12, the only valid positional argument will be `data`, and passing other arguments without an explicit keyword will result in an error or misinterpretation.\n",
            "  FutureWarning\n"
          ]
        },
        {
          "output_type": "execute_result",
          "data": {
            "text/plain": [
              "<matplotlib.axes._subplots.AxesSubplot at 0x7f3022745c10>"
            ]
          },
          "metadata": {},
          "execution_count": 15
        },
        {
          "output_type": "display_data",
          "data": {
            "text/plain": [
              "<Figure size 432x288 with 1 Axes>"
            ],
            "image/png": "[encoded data removed]"
          },
          "metadata": {
            "needs_background": "light"
          }
        }
      ]
    },
    {
      "cell_type": "code",
      "source": [
        "sns.boxplot(data_set['Age'])"
      ],
      "metadata": {
        "colab": {
          "base_uri": "https://localhost:8080/",
          "height": 353
        },
        "id": "rlUGPR8lloHk",
        "outputId": "3d905d48-0d73-48af-94b0-39e8ab1b452e"
      },
      "execution_count": 16,
      "outputs": [
        {
          "output_type": "stream",
          "name": "stderr",
          "text": [
            "/usr/local/lib/python3.7/dist-packages/seaborn/_decorators.py:43: FutureWarning: Pass the following variable as a keyword arg: x. From version 0.12, the only valid positional argument will be `data`, and passing other arguments without an explicit keyword will result in an error or misinterpretation.\n",
            "  FutureWarning\n"
          ]
        },
        {
          "output_type": "execute_result",
          "data": {
            "text/plain": [
              "<matplotlib.axes._subplots.AxesSubplot at 0x7f3022661290>"
            ]
          },
          "metadata": {},
          "execution_count": 16
        },
        {
          "output_type": "display_data",
          "data": {
            "text/plain": [
              "<Figure size 432x288 with 1 Axes>"
            ],
            "image/png": "[encoded data removed]"
          },
          "metadata": {
            "needs_background": "light"
          }
        }
      ]
    },
    {
      "cell_type": "code",
      "source": [
        "data_set.duplicated().sum()"
      ],
      "metadata": {
        "colab": {
          "base_uri": "https://localhost:8080/"
        },
        "id": "ZA335HoPAPJp",
        "outputId": "14816340-d19d-4d75-9ad2-1ec4874bc94b"
      },
      "execution_count": 17,
      "outputs": [
        {
          "output_type": "execute_result",
          "data": {
            "text/plain": [
              "20"
            ]
          },
          "metadata": {},
          "execution_count": 17
        }
      ]
    },
    {
      "cell_type": "code",
      "source": [
        "data_set[data_set.duplicated()]"
      ],
      "metadata": {
        "colab": {
          "base_uri": "https://localhost:8080/",
          "height": 677
        },
        "id": "12eHJtUbBeLJ",
        "outputId": "1633e3b8-e7db-49c9-a5d8-9ae71df2eaa0"
      },
      "execution_count": 18,
      "outputs": [
        {
          "output_type": "execute_result",
          "data": {
            "text/plain": [
              "          Age  Gender  EstimatedSalary  Purchased\n",
              "381  0.986847       1        -1.077589          1\n",
              "81   0.128304       1        -0.813636          0\n",
              "257  0.223698       1        -0.373714          0\n",
              "309  0.032911       0        -0.579011          0\n",
              "341 -0.253270       1         0.154193          0\n",
              "115  0.223698       1        -0.373714          0\n",
              "374 -0.062483       0         0.300833          0\n",
              "74  -0.539451       1        -1.517511          0\n",
              "126  0.414485       1        -0.139089          0\n",
              "52  -0.825632       0         0.388818          0\n",
              "349  0.032911       1        -0.256401          0\n",
              "186 -1.684175       0         0.359490          0\n",
              "359  0.414485       1        -0.461698          0\n",
              "322  0.319092       1        -0.520354          0\n",
              "256  0.319092       0         0.066208          0\n",
              "244  0.319092       0         0.066208          0\n",
              "192 -0.825632       1        -0.784307          0\n",
              "383  1.082241       1        -1.224229          1\n",
              "272  2.131571       1        -0.813636          1\n",
              "368  0.032911       1         0.036880          0"
            ],
            "text/html": [
              "\n",
              "  <div id=\"df-4e03a185-ec2b-495d-9e4e-592da76718ee\">\n",
              "    <div class=\"colab-df-container\">\n",
              "      <div>\n",
              "<style scoped>\n",
              "    .dataframe tbody tr th:only-of-type {\n",
              "        vertical-align: middle;\n",
              "    }\n",
              "\n",
              "    .dataframe tbody tr th {\n",
              "        vertical-align: top;\n",
              "    }\n",
              "\n",
              "    .dataframe thead th {\n",
              "        text-align: right;\n",
              "    }\n",
              "</style>\n",
              "<table border=\"1\" class=\"dataframe\">\n",
              "  <thead>\n",
              "    <tr style=\"text-align: right;\">\n",
              "      <th></th>\n",
              "      <th>Age</th>\n",
              "      <th>Gender</th>\n",
              "      <th>EstimatedSalary</th>\n",
              "      <th>Purchased</th>\n",
              "    </tr>\n",
              "  </thead>\n",
              "  <tbody>\n",
              "    <tr>\n",
              "      <th>381</th>\n",
              "      <td>0.986847</td>\n",
              "      <td>1</td>\n",
              "      <td>-1.077589</td>\n",
              "      <td>1</td>\n",
              "    </tr>\n",
              "    <tr>\n",
              "      <th>81</th>\n",
              "      <td>0.128304</td>\n",
              "      <td>1</td>\n",
              "      <td>-0.813636</td>\n",
              "      <td>0</td>\n",
              "    </tr>\n",
              "    <tr>\n",
              "      <th>257</th>\n",
              "      <td>0.223698</td>\n",
              "      <td>1</td>\n",
              "      <td>-0.373714</td>\n",
              "      <td>0</td>\n",
              "    </tr>\n",
              "    <tr>\n",
              "      <th>309</th>\n",
              "      <td>0.032911</td>\n",
              "      <td>0</td>\n",
              "      <td>-0.579011</td>\n",
              "      <td>0</td>\n",
              "    </tr>\n",
              "    <tr>\n",
              "      <th>341</th>\n",
              "      <td>-0.253270</td>\n",
              "      <td>1</td>\n",
              "      <td>0.154193</td>\n",
              "      <td>0</td>\n",
              "    </tr>\n",
              "    <tr>\n",
              "      <th>115</th>\n",
              "      <td>0.223698</td>\n",
              "      <td>1</td>\n",
              "      <td>-0.373714</td>\n",
              "      <td>0</td>\n",
              "    </tr>\n",
              "    <tr>\n",
              "      <th>374</th>\n",
              "      <td>-0.062483</td>\n",
              "      <td>0</td>\n",
              "      <td>0.300833</td>\n",
              "      <td>0</td>\n",
              "    </tr>\n",
              "    <tr>\n",
              "      <th>74</th>\n",
              "      <td>-0.539451</td>\n",
              "      <td>1</td>\n",
              "      <td>-1.517511</td>\n",
              "      <td>0</td>\n",
              "    </tr>\n",
              "    <tr>\n",
              "      <th>126</th>\n",
              "      <td>0.414485</td>\n",
              "      <td>1</td>\n",
              "      <td>-0.139089</td>\n",
              "      <td>0</td>\n",
              "    </tr>\n",
              "    <tr>\n",
              "      <th>52</th>\n",
              "      <td>-0.825632</td>\n",
              "      <td>0</td>\n",
              "      <td>0.388818</td>\n",
              "      <td>0</td>\n",
              "    </tr>\n",
              "    <tr>\n",
              "      <th>349</th>\n",
              "      <td>0.032911</td>\n",
              "      <td>1</td>\n",
              "      <td>-0.256401</td>\n",
              "      <td>0</td>\n",
              "    </tr>\n",
              "    <tr>\n",
              "      <th>186</th>\n",
              "      <td>-1.684175</td>\n",
              "      <td>0</td>\n",
              "      <td>0.359490</td>\n",
              "      <td>0</td>\n",
              "    </tr>\n",
              "    <tr>\n",
              "      <th>359</th>\n",
              "      <td>0.414485</td>\n",
              "      <td>1</td>\n",
              "      <td>-0.461698</td>\n",
              "      <td>0</td>\n",
              "    </tr>\n",
              "    <tr>\n",
              "      <th>322</th>\n",
              "      <td>0.319092</td>\n",
              "      <td>1</td>\n",
              "      <td>-0.520354</td>\n",
              "      <td>0</td>\n",
              "    </tr>\n",
              "    <tr>\n",
              "      <th>256</th>\n",
              "      <td>0.319092</td>\n",
              "      <td>0</td>\n",
              "      <td>0.066208</td>\n",
              "      <td>0</td>\n",
              "    </tr>\n",
              "    <tr>\n",
              "      <th>244</th>\n",
              "      <td>0.319092</td>\n",
              "      <td>0</td>\n",
              "      <td>0.066208</td>\n",
              "      <td>0</td>\n",
              "    </tr>\n",
              "    <tr>\n",
              "      <th>192</th>\n",
              "      <td>-0.825632</td>\n",
              "      <td>1</td>\n",
              "      <td>-0.784307</td>\n",
              "      <td>0</td>\n",
              "    </tr>\n",
              "    <tr>\n",
              "      <th>383</th>\n",
              "      <td>1.082241</td>\n",
              "      <td>1</td>\n",
              "      <td>-1.224229</td>\n",
              "      <td>1</td>\n",
              "    </tr>\n",
              "    <tr>\n",
              "      <th>272</th>\n",
              "      <td>2.131571</td>\n",
              "      <td>1</td>\n",
              "      <td>-0.813636</td>\n",
              "      <td>1</td>\n",
              "    </tr>\n",
              "    <tr>\n",
              "      <th>368</th>\n",
              "      <td>0.032911</td>\n",
              "      <td>1</td>\n",
              "      <td>0.036880</td>\n",
              "      <td>0</td>\n",
              "    </tr>\n",
              "  </tbody>\n",
              "</table>\n",
              "</div>\n",
              "      <button class=\"colab-df-convert\" onclick=\"convertToInteractive('df-4e03a185-ec2b-495d-9e4e-592da76718ee')\"\n",
              "              title=\"Convert this dataframe to an interactive table.\"\n",
              "              style=\"display:none;\">\n",
              "        \n",
              "  <svg xmlns=\"http://www.w3.org/2000/svg\" height=\"24px\"viewBox=\"0 0 24 24\"\n",
              "       width=\"24px\">\n",
              "    <path d=\"M0 0h24v24H0V0z\" fill=\"none\"/>\n",
              "    <path d=\"M18.56 5.44l.94 2.06.94-2.06 2.06-.94-2.06-.94-.94-2.06-.94 2.06-2.06.94zm-11 1L8.5 8.5l.94-2.06 2.06-.94-2.06-.94L8.5 2.5l-.94 2.06-2.06.94zm10 10l.94 2.06.94-2.06 2.06-.94-2.06-.94-.94-2.06-.94 2.06-2.06.94z\"/><path d=\"M17.41 7.96l-1.37-1.37c-.4-.4-.92-.59-1.43-.59-.52 0-1.04.2-1.43.59L10.3 9.45l-7.72 7.72c-.78.78-.78 2.05 0 2.83L4 21.41c.39.39.9.59 1.41.59.51 0 1.02-.2 1.41-.59l7.78-7.78 2.81-2.81c.8-.78.8-2.07 0-2.86zM5.41 20L4 18.59l7.72-7.72 1.47 1.35L5.41 20z\"/>\n",
              "  </svg>\n",
              "      </button>\n",
              "      \n",
              "  <style>\n",
              "    .colab-df-container {\n",
              "      display:flex;\n",
              "      flex-wrap:wrap;\n",
              "      gap: 12px;\n",
              "    }\n",
              "\n",
              "    .colab-df-convert {\n",
              "      background-color: #E8F0FE;\n",
              "      border: none;\n",
              "      border-radius: 50%;\n",
              "      cursor: pointer;\n",
              "      display: none;\n",
              "      fill: #1967D2;\n",
              "      height: 32px;\n",
              "      padding: 0 0 0 0;\n",
              "      width: 32px;\n",
              "    }\n",
              "\n",
              "    .colab-df-convert:hover {\n",
              "      background-color: #E2EBFA;\n",
              "      box-shadow: 0px 1px 2px rgba(60, 64, 67, 0.3), 0px 1px 3px 1px rgba(60, 64, 67, 0.15);\n",
              "      fill: #174EA6;\n",
              "    }\n",
              "\n",
              "    [theme=dark] .colab-df-convert {\n",
              "      background-color: #3B4455;\n",
              "      fill: #D2E3FC;\n",
              "    }\n",
              "\n",
              "    [theme=dark] .colab-df-convert:hover {\n",
              "      background-color: #434B5C;\n",
              "      box-shadow: 0px 1px 3px 1px rgba(0, 0, 0, 0.15);\n",
              "      filter: drop-shadow(0px 1px 2px rgba(0, 0, 0, 0.3));\n",
              "      fill: #FFFFFF;\n",
              "    }\n",
              "  </style>\n",
              "\n",
              "      <script>\n",
              "        const buttonEl =\n",
              "          document.querySelector('#df-4e03a185-ec2b-495d-9e4e-592da76718ee button.colab-df-convert');\n",
              "        buttonEl.style.display =\n",
              "          google.colab.kernel.accessAllowed ? 'block' : 'none';\n",
              "\n",
              "        async function convertToInteractive(key) {\n",
              "          const element = document.querySelector('#df-4e03a185-ec2b-495d-9e4e-592da76718ee');\n",
              "          const dataTable =\n",
              "            await google.colab.kernel.invokeFunction('convertToInteractive',\n",
              "                                                     [key], {});\n",
              "          if (!dataTable) return;\n",
              "\n",
              "          const docLinkHtml = 'Like what you see? Visit the ' +\n",
              "            '<a target=\"_blank\" href=https://colab.research.google.com/notebooks/data_table.ipynb>data table notebook</a>'\n",
              "            + ' to learn more about interactive tables.';\n",
              "          element.innerHTML = '';\n",
              "          dataTable['output_type'] = 'display_data';\n",
              "          await google.colab.output.renderOutput(dataTable, element);\n",
              "          const docLink = document.createElement('div');\n",
              "          docLink.innerHTML = docLinkHtml;\n",
              "          element.appendChild(docLink);\n",
              "        }\n",
              "      </script>\n",
              "    </div>\n",
              "  </div>\n",
              "  "
            ]
          },
          "metadata": {},
          "execution_count": 18
        }
      ]
    },
    {
      "cell_type": "code",
      "source": [
        "data_set=data_set.drop_duplicates()"
      ],
      "metadata": {
        "id": "O0jRHQNzBfcV"
      },
      "execution_count": 19,
      "outputs": []
    },
    {
      "cell_type": "code",
      "source": [
        "data_set.duplicated().sum()"
      ],
      "metadata": {
        "colab": {
          "base_uri": "https://localhost:8080/"
        },
        "id": "AWrtBixIBi_d",
        "outputId": "03556d09-41b6-471d-bb34-b2057ff1b98f"
      },
      "execution_count": 20,
      "outputs": [
        {
          "output_type": "execute_result",
          "data": {
            "text/plain": [
              "0"
            ]
          },
          "metadata": {},
          "execution_count": 20
        }
      ]
    },
    {
      "cell_type": "code",
      "source": [
        "data_set[data_set.duplicated()]"
      ],
      "metadata": {
        "colab": {
          "base_uri": "https://localhost:8080/",
          "height": 49
        },
        "id": "kcb6HOZ6BlMd",
        "outputId": "7febc23e-7928-401b-b7be-e0f11accd89c"
      },
      "execution_count": 21,
      "outputs": [
        {
          "output_type": "execute_result",
          "data": {
            "text/plain": [
              "Empty DataFrame\n",
              "Columns: [Age, Gender, EstimatedSalary, Purchased]\n",
              "Index: []"
            ],
            "text/html": [
              "\n",
              "  <div id=\"df-a69739a8-d587-430c-8a06-2e52bf9223b6\">\n",
              "    <div class=\"colab-df-container\">\n",
              "      <div>\n",
              "<style scoped>\n",
              "    .dataframe tbody tr th:only-of-type {\n",
              "        vertical-align: middle;\n",
              "    }\n",
              "\n",
              "    .dataframe tbody tr th {\n",
              "        vertical-align: top;\n",
              "    }\n",
              "\n",
              "    .dataframe thead th {\n",
              "        text-align: right;\n",
              "    }\n",
              "</style>\n",
              "<table border=\"1\" class=\"dataframe\">\n",
              "  <thead>\n",
              "    <tr style=\"text-align: right;\">\n",
              "      <th></th>\n",
              "      <th>Age</th>\n",
              "      <th>Gender</th>\n",
              "      <th>EstimatedSalary</th>\n",
              "      <th>Purchased</th>\n",
              "    </tr>\n",
              "  </thead>\n",
              "  <tbody>\n",
              "  </tbody>\n",
              "</table>\n",
              "</div>\n",
              "      <button class=\"colab-df-convert\" onclick=\"convertToInteractive('df-a69739a8-d587-430c-8a06-2e52bf9223b6')\"\n",
              "              title=\"Convert this dataframe to an interactive table.\"\n",
              "              style=\"display:none;\">\n",
              "        \n",
              "  <svg xmlns=\"http://www.w3.org/2000/svg\" height=\"24px\"viewBox=\"0 0 24 24\"\n",
              "       width=\"24px\">\n",
              "    <path d=\"M0 0h24v24H0V0z\" fill=\"none\"/>\n",
              "    <path d=\"M18.56 5.44l.94 2.06.94-2.06 2.06-.94-2.06-.94-.94-2.06-.94 2.06-2.06.94zm-11 1L8.5 8.5l.94-2.06 2.06-.94-2.06-.94L8.5 2.5l-.94 2.06-2.06.94zm10 10l.94 2.06.94-2.06 2.06-.94-2.06-.94-.94-2.06-.94 2.06-2.06.94z\"/><path d=\"M17.41 7.96l-1.37-1.37c-.4-.4-.92-.59-1.43-.59-.52 0-1.04.2-1.43.59L10.3 9.45l-7.72 7.72c-.78.78-.78 2.05 0 2.83L4 21.41c.39.39.9.59 1.41.59.51 0 1.02-.2 1.41-.59l7.78-7.78 2.81-2.81c.8-.78.8-2.07 0-2.86zM5.41 20L4 18.59l7.72-7.72 1.47 1.35L5.41 20z\"/>\n",
              "  </svg>\n",
              "      </button>\n",
              "      \n",
              "  <style>\n",
              "    .colab-df-container {\n",
              "      display:flex;\n",
              "      flex-wrap:wrap;\n",
              "      gap: 12px;\n",
              "    }\n",
              "\n",
              "    .colab-df-convert {\n",
              "      background-color: #E8F0FE;\n",
              "      border: none;\n",
              "      border-radius: 50%;\n",
              "      cursor: pointer;\n",
              "      display: none;\n",
              "      fill: #1967D2;\n",
              "      height: 32px;\n",
              "      padding: 0 0 0 0;\n",
              "      width: 32px;\n",
              "    }\n",
              "\n",
              "    .colab-df-convert:hover {\n",
              "      background-color: #E2EBFA;\n",
              "      box-shadow: 0px 1px 2px rgba(60, 64, 67, 0.3), 0px 1px 3px 1px rgba(60, 64, 67, 0.15);\n",
              "      fill: #174EA6;\n",
              "    }\n",
              "\n",
              "    [theme=dark] .colab-df-convert {\n",
              "      background-color: #3B4455;\n",
              "      fill: #D2E3FC;\n",
              "    }\n",
              "\n",
              "    [theme=dark] .colab-df-convert:hover {\n",
              "      background-color: #434B5C;\n",
              "      box-shadow: 0px 1px 3px 1px rgba(0, 0, 0, 0.15);\n",
              "      filter: drop-shadow(0px 1px 2px rgba(0, 0, 0, 0.3));\n",
              "      fill: #FFFFFF;\n",
              "    }\n",
              "  </style>\n",
              "\n",
              "      <script>\n",
              "        const buttonEl =\n",
              "          document.querySelector('#df-a69739a8-d587-430c-8a06-2e52bf9223b6 button.colab-df-convert');\n",
              "        buttonEl.style.display =\n",
              "          google.colab.kernel.accessAllowed ? 'block' : 'none';\n",
              "\n",
              "        async function convertToInteractive(key) {\n",
              "          const element = document.querySelector('#df-a69739a8-d587-430c-8a06-2e52bf9223b6');\n",
              "          const dataTable =\n",
              "            await google.colab.kernel.invokeFunction('convertToInteractive',\n",
              "                                                     [key], {});\n",
              "          if (!dataTable) return;\n",
              "\n",
              "          const docLinkHtml = 'Like what you see? Visit the ' +\n",
              "            '<a target=\"_blank\" href=https://colab.research.google.com/notebooks/data_table.ipynb>data table notebook</a>'\n",
              "            + ' to learn more about interactive tables.';\n",
              "          element.innerHTML = '';\n",
              "          dataTable['output_type'] = 'display_data';\n",
              "          await google.colab.output.renderOutput(dataTable, element);\n",
              "          const docLink = document.createElement('div');\n",
              "          docLink.innerHTML = docLinkHtml;\n",
              "          element.appendChild(docLink);\n",
              "        }\n",
              "      </script>\n",
              "    </div>\n",
              "  </div>\n",
              "  "
            ]
          },
          "metadata": {},
          "execution_count": 21
        }
      ]
    },
    {
      "cell_type": "code",
      "source": [
        "plt.hist(data['EstimatedSalary'])\n",
        "plt.show()"
      ],
      "metadata": {
        "colab": {
          "base_uri": "https://localhost:8080/",
          "height": 265
        },
        "id": "w-pOooOWw4tr",
        "outputId": "af965529-6349-43b1-bbc2-a0842940e7cc"
      },
      "execution_count": 22,
      "outputs": [
        {
          "output_type": "display_data",
          "data": {
            "text/plain": [
              "<Figure size 432x288 with 1 Axes>"
            ],
            "image/png": "[encoded data removed]"
          },
          "metadata": {
            "needs_background": "light"
          }
        }
      ]
    },
    {
      "cell_type": "code",
      "source": [
        "plt.hist(data['Age'])\n",
        "plt.show()"
      ],
      "metadata": {
        "colab": {
          "base_uri": "https://localhost:8080/",
          "height": 267
        },
        "id": "Ha1kVy6zw7c0",
        "outputId": "e1fc3811-8d34-4124-85d1-e7772648fd33"
      },
      "execution_count": 23,
      "outputs": [
        {
          "output_type": "display_data",
          "data": {
            "text/plain": [
              "<Figure size 432x288 with 1 Axes>"
            ],
            "image/png": "[encoded data removed]"
          },
          "metadata": {
            "needs_background": "light"
          }
        }
      ]
    },
    {
      "cell_type": "markdown",
      "source": [
        "# **5. split data to train valdiation test**"
      ],
      "metadata": {
        "id": "ZvWZeigQDBpm"
      }
    },
    {
      "cell_type": "code",
      "source": [
        "data_x=data_set[['Age','Gender', 'EstimatedSalary']].copy()\n",
        "data_y=data_set[['Purchased']].copy()"
      ],
      "metadata": {
        "id": "9jfDUzh5ceqy"
      },
      "execution_count": 24,
      "outputs": []
    },
    {
      "cell_type": "code",
      "source": [
        "split_train=int(len(data_set)*(70/100))\n",
        "split_vald=int(len(data_set)*(20/100))\n",
        "split_test=int(len(data_set)*(10/100))"
      ],
      "metadata": {
        "id": "1VqtttteE_u_"
      },
      "execution_count": 25,
      "outputs": []
    },
    {
      "cell_type": "code",
      "source": [
        "x_train=data_x.iloc[:split_train,:]\n",
        "x_vald=data_x.iloc[split_train:split_train+split_vald,:]\n",
        "x_test=data_x.iloc[split_train+split_vald:,:]\n",
        "\n",
        "y_train=data_y.iloc[:split_train,:]\n",
        "y_vald=data_y.iloc[split_train:split_train+split_vald,:]\n",
        "y_test=data_y.iloc[split_train+split_vald:,:]\n"
      ],
      "metadata": {
        "id": "IpIUJ5T8GwG7"
      },
      "execution_count": 26,
      "outputs": []
    },
    {
      "cell_type": "code",
      "source": [
        "print(len(x_train))\n",
        "print(len(x_vald))\n",
        "print(len(x_test))\n",
        "\n",
        "print(len(y_train))\n",
        "print(len(y_vald))\n",
        "print(len(y_test))"
      ],
      "metadata": {
        "colab": {
          "base_uri": "https://localhost:8080/"
        },
        "id": "S2ZA96a0JKLS",
        "outputId": "653fbd77-2456-4f69-ce76-5521418cbbcb"
      },
      "execution_count": 27,
      "outputs": [
        {
          "output_type": "stream",
          "name": "stdout",
          "text": [
            "266\n",
            "76\n",
            "38\n",
            "266\n",
            "76\n",
            "38\n"
          ]
        }
      ]
    },
    {
      "cell_type": "markdown",
      "source": [
        "# **6. the model**\n",
        "1. naive bayes \n",
        "2. svm \n",
        "3. logistic regression\n",
        "4. cross-valdiation naive bayes \n",
        "5. cross-valdation  svm\n",
        "6. cross-valdation  logistic regression\n",
        "7. neural network \n"
      ],
      "metadata": {
        "id": "xJUPEKJpFUvx"
      }
    },
    {
      "cell_type": "code",
      "source": [
        "gnb = GaussianNB()\n",
        "y_pred = gnb.fit(x_train, y_train).predict(x_vald)\n",
        "print(\"valdation accuarcy is :\", accuracy_score(y_vald, y_pred, normalize=True))\n",
        "\n",
        "y_pred = gnb.predict(x_test)\n",
        "print(\"testing accuarcy is :\", accuracy_score(y_test, y_pred, normalize=True))\n",
        "\n",
        "y_pred = gnb.fit(x_train, y_train).predict(x_train)\n",
        "print(\"training accuarcy is :\",accuracy_score(y_train, y_pred, normalize=True))"
      ],
      "metadata": {
        "id": "jGbmet34VAh2",
        "colab": {
          "base_uri": "https://localhost:8080/"
        },
        "outputId": "6c568be5-2eee-48a9-a7a0-dd395ba2f667"
      },
      "execution_count": 28,
      "outputs": [
        {
          "output_type": "stream",
          "name": "stderr",
          "text": [
            "/usr/local/lib/python3.7/dist-packages/sklearn/utils/validation.py:993: DataConversionWarning: A column-vector y was passed when a 1d array was expected. Please change the shape of y to (n_samples, ), for example using ravel().\n",
            "  y = column_or_1d(y, warn=True)\n"
          ]
        },
        {
          "output_type": "stream",
          "name": "stdout",
          "text": [
            "valdation accuarcy is : 0.8947368421052632\n",
            "testing accuarcy is : 0.8421052631578947\n",
            "training accuarcy is : 0.8947368421052632\n"
          ]
        },
        {
          "output_type": "stream",
          "name": "stderr",
          "text": [
            "/usr/local/lib/python3.7/dist-packages/sklearn/utils/validation.py:993: DataConversionWarning: A column-vector y was passed when a 1d array was expected. Please change the shape of y to (n_samples, ), for example using ravel().\n",
            "  y = column_or_1d(y, warn=True)\n"
          ]
        }
      ]
    },
    {
      "cell_type": "code",
      "source": [
        "clf = svm.SVC()\n",
        "y_pred = clf.fit(x_train, y_train).predict(x_vald)\n",
        "print(\"valdation accuarcy is :\", accuracy_score(y_vald, y_pred, normalize=True))\n",
        "\n",
        "y_pred = clf.predict(x_test)\n",
        "print(\"testing accuarcy is :\", accuracy_score(y_test, y_pred, normalize=True))\n",
        "\n",
        "y_pred = clf.fit(x_train, y_train).predict(x_train)\n",
        "print(\"training accuarcy is :\",accuracy_score(y_train, y_pred, normalize=True))"
      ],
      "metadata": {
        "colab": {
          "base_uri": "https://localhost:8080/"
        },
        "id": "RWmuUUZfGJmf",
        "outputId": "2081e81a-173d-4d3b-9c5c-4cc964aa771d"
      },
      "execution_count": 29,
      "outputs": [
        {
          "output_type": "stream",
          "name": "stdout",
          "text": [
            "valdation accuarcy is : 0.9078947368421053\n",
            "testing accuarcy is : 0.8947368421052632\n",
            "training accuarcy is : 0.9022556390977443\n"
          ]
        },
        {
          "output_type": "stream",
          "name": "stderr",
          "text": [
            "/usr/local/lib/python3.7/dist-packages/sklearn/utils/validation.py:993: DataConversionWarning: A column-vector y was passed when a 1d array was expected. Please change the shape of y to (n_samples, ), for example using ravel().\n",
            "  y = column_or_1d(y, warn=True)\n",
            "/usr/local/lib/python3.7/dist-packages/sklearn/utils/validation.py:993: DataConversionWarning: A column-vector y was passed when a 1d array was expected. Please change the shape of y to (n_samples, ), for example using ravel().\n",
            "  y = column_or_1d(y, warn=True)\n"
          ]
        }
      ]
    },
    {
      "cell_type": "code",
      "source": [
        "log = LogisticRegression(random_state=42)\n",
        "y_pred = log.fit(x_train, y_train).predict(x_vald)\n",
        "print(\"valdation accuarcy is :\", accuracy_score(y_vald, y_pred, normalize=True))\n",
        "\n",
        "y_pred = log.predict(x_test)\n",
        "print(\"testing accuarcy is :\", accuracy_score(y_test, y_pred, normalize=True))\n",
        "\n",
        "y_pred = log.fit(x_train, y_train).predict(x_train)\n",
        "print(\"training accuarcy is :\",accuracy_score(y_train, y_pred, normalize=True))"
      ],
      "metadata": {
        "colab": {
          "base_uri": "https://localhost:8080/"
        },
        "id": "IebdY3QkmGPD",
        "outputId": "28440c21-e259-42d9-ef5d-0ee0ec86da20"
      },
      "execution_count": 30,
      "outputs": [
        {
          "output_type": "stream",
          "name": "stdout",
          "text": [
            "valdation accuarcy is : 0.8421052631578947\n",
            "testing accuarcy is : 0.7368421052631579\n",
            "training accuarcy is : 0.8533834586466166\n"
          ]
        },
        {
          "output_type": "stream",
          "name": "stderr",
          "text": [
            "/usr/local/lib/python3.7/dist-packages/sklearn/utils/validation.py:993: DataConversionWarning: A column-vector y was passed when a 1d array was expected. Please change the shape of y to (n_samples, ), for example using ravel().\n",
            "  y = column_or_1d(y, warn=True)\n",
            "/usr/local/lib/python3.7/dist-packages/sklearn/utils/validation.py:993: DataConversionWarning: A column-vector y was passed when a 1d array was expected. Please change the shape of y to (n_samples, ), for example using ravel().\n",
            "  y = column_or_1d(y, warn=True)\n"
          ]
        }
      ]
    },
    {
      "cell_type": "markdown",
      "source": [
        "**try cross valdation**"
      ],
      "metadata": {
        "id": "Qe6ZYHvImbLu"
      }
    },
    {
      "cell_type": "code",
      "source": [
        "gnb=GaussianNB()\n",
        "kf=KFold(n_splits=5)\n",
        "score=cross_val_score(gnb,data_x,data_y,cv=kf)\n",
        "print(\"Cross Validation Scores are {}\".format(score))\n",
        "print(\"Average Cross Validation score :{}\".format(score.mean()))"
      ],
      "metadata": {
        "colab": {
          "base_uri": "https://localhost:8080/"
        },
        "id": "sEoLMs2UmEwM",
        "outputId": "85259ce0-a52d-41c0-afef-b84304146ac4"
      },
      "execution_count": 31,
      "outputs": [
        {
          "output_type": "stream",
          "name": "stderr",
          "text": [
            "/usr/local/lib/python3.7/dist-packages/sklearn/utils/validation.py:993: DataConversionWarning: A column-vector y was passed when a 1d array was expected. Please change the shape of y to (n_samples, ), for example using ravel().\n",
            "  y = column_or_1d(y, warn=True)\n",
            "/usr/local/lib/python3.7/dist-packages/sklearn/utils/validation.py:993: DataConversionWarning: A column-vector y was passed when a 1d array was expected. Please change the shape of y to (n_samples, ), for example using ravel().\n",
            "  y = column_or_1d(y, warn=True)\n"
          ]
        },
        {
          "output_type": "stream",
          "name": "stdout",
          "text": [
            "Cross Validation Scores are [0.85526316 0.92105263 0.88157895 0.92105263 0.84210526]\n",
            "Average Cross Validation score :0.8842105263157893\n"
          ]
        },
        {
          "output_type": "stream",
          "name": "stderr",
          "text": [
            "/usr/local/lib/python3.7/dist-packages/sklearn/utils/validation.py:993: DataConversionWarning: A column-vector y was passed when a 1d array was expected. Please change the shape of y to (n_samples, ), for example using ravel().\n",
            "  y = column_or_1d(y, warn=True)\n",
            "/usr/local/lib/python3.7/dist-packages/sklearn/utils/validation.py:993: DataConversionWarning: A column-vector y was passed when a 1d array was expected. Please change the shape of y to (n_samples, ), for example using ravel().\n",
            "  y = column_or_1d(y, warn=True)\n",
            "/usr/local/lib/python3.7/dist-packages/sklearn/utils/validation.py:993: DataConversionWarning: A column-vector y was passed when a 1d array was expected. Please change the shape of y to (n_samples, ), for example using ravel().\n",
            "  y = column_or_1d(y, warn=True)\n"
          ]
        }
      ]
    },
    {
      "cell_type": "code",
      "source": [
        "clf=svm.SVC()\n",
        "kf=KFold(n_splits=5)\n",
        "score=cross_val_score(clf,data_x,data_y,cv=kf)\n",
        "print(\"Cross Validation Scores are {}\".format(score))\n",
        "print(\"Average Cross Validation score :{}\".format(score.mean()))"
      ],
      "metadata": {
        "colab": {
          "base_uri": "https://localhost:8080/"
        },
        "id": "zJ9rBDjkmeeI",
        "outputId": "900f7856-73fc-4d0b-f310-32cfd699fb04"
      },
      "execution_count": 32,
      "outputs": [
        {
          "output_type": "stream",
          "name": "stderr",
          "text": [
            "/usr/local/lib/python3.7/dist-packages/sklearn/utils/validation.py:993: DataConversionWarning: A column-vector y was passed when a 1d array was expected. Please change the shape of y to (n_samples, ), for example using ravel().\n",
            "  y = column_or_1d(y, warn=True)\n",
            "/usr/local/lib/python3.7/dist-packages/sklearn/utils/validation.py:993: DataConversionWarning: A column-vector y was passed when a 1d array was expected. Please change the shape of y to (n_samples, ), for example using ravel().\n",
            "  y = column_or_1d(y, warn=True)\n",
            "/usr/local/lib/python3.7/dist-packages/sklearn/utils/validation.py:993: DataConversionWarning: A column-vector y was passed when a 1d array was expected. Please change the shape of y to (n_samples, ), for example using ravel().\n",
            "  y = column_or_1d(y, warn=True)\n",
            "/usr/local/lib/python3.7/dist-packages/sklearn/utils/validation.py:993: DataConversionWarning: A column-vector y was passed when a 1d array was expected. Please change the shape of y to (n_samples, ), for example using ravel().\n",
            "  y = column_or_1d(y, warn=True)\n"
          ]
        },
        {
          "output_type": "stream",
          "name": "stdout",
          "text": [
            "Cross Validation Scores are [0.88157895 0.93421053 0.88157895 0.92105263 0.89473684]\n",
            "Average Cross Validation score :0.9026315789473685\n"
          ]
        },
        {
          "output_type": "stream",
          "name": "stderr",
          "text": [
            "/usr/local/lib/python3.7/dist-packages/sklearn/utils/validation.py:993: DataConversionWarning: A column-vector y was passed when a 1d array was expected. Please change the shape of y to (n_samples, ), for example using ravel().\n",
            "  y = column_or_1d(y, warn=True)\n"
          ]
        }
      ]
    },
    {
      "cell_type": "code",
      "source": [
        "logreg=LogisticRegression()\n",
        "kf=KFold(n_splits=5)\n",
        "score=cross_val_score(logreg,data_x,data_y,cv=kf)\n",
        "print(\"Cross Validation Scores are {}\".format(score))\n",
        "print(\"Average Cross Validation score :{}\".format(score.mean()))"
      ],
      "metadata": {
        "id": "g8zT-_SGHF7f",
        "colab": {
          "base_uri": "https://localhost:8080/"
        },
        "outputId": "a976590a-79e8-4c16-b489-79605634505d"
      },
      "execution_count": 33,
      "outputs": [
        {
          "output_type": "stream",
          "name": "stderr",
          "text": [
            "/usr/local/lib/python3.7/dist-packages/sklearn/utils/validation.py:993: DataConversionWarning: A column-vector y was passed when a 1d array was expected. Please change the shape of y to (n_samples, ), for example using ravel().\n",
            "  y = column_or_1d(y, warn=True)\n",
            "/usr/local/lib/python3.7/dist-packages/sklearn/utils/validation.py:993: DataConversionWarning: A column-vector y was passed when a 1d array was expected. Please change the shape of y to (n_samples, ), for example using ravel().\n",
            "  y = column_or_1d(y, warn=True)\n",
            "/usr/local/lib/python3.7/dist-packages/sklearn/utils/validation.py:993: DataConversionWarning: A column-vector y was passed when a 1d array was expected. Please change the shape of y to (n_samples, ), for example using ravel().\n",
            "  y = column_or_1d(y, warn=True)\n"
          ]
        },
        {
          "output_type": "stream",
          "name": "stdout",
          "text": [
            "Cross Validation Scores are [0.85526316 0.88157895 0.81578947 0.88157895 0.77631579]\n",
            "Average Cross Validation score :0.8421052631578947\n"
          ]
        },
        {
          "output_type": "stream",
          "name": "stderr",
          "text": [
            "/usr/local/lib/python3.7/dist-packages/sklearn/utils/validation.py:993: DataConversionWarning: A column-vector y was passed when a 1d array was expected. Please change the shape of y to (n_samples, ), for example using ravel().\n",
            "  y = column_or_1d(y, warn=True)\n",
            "/usr/local/lib/python3.7/dist-packages/sklearn/utils/validation.py:993: DataConversionWarning: A column-vector y was passed when a 1d array was expected. Please change the shape of y to (n_samples, ), for example using ravel().\n",
            "  y = column_or_1d(y, warn=True)\n"
          ]
        }
      ]
    },
    {
      "cell_type": "markdown",
      "source": [
        "**try neural network**"
      ],
      "metadata": {
        "id": "SP_Q7piam6UO"
      }
    },
    {
      "cell_type": "code",
      "source": [
        "y_train=np.array(y_train)\n",
        "enc=OneHotEncoder()\n",
        "y_train=pd.DataFrame(enc.fit_transform(y_train).toarray())\n",
        "\n",
        "\n",
        "y_vald=np.array(y_vald)\n",
        "enc=OneHotEncoder()\n",
        "y_vald=pd.DataFrame(enc.fit_transform(y_vald).toarray())\n",
        "\n",
        "\n",
        "y_test=np.array(y_test)\n",
        "enc=OneHotEncoder()\n",
        "y_test=pd.DataFrame(enc.fit_transform(y_test).toarray())"
      ],
      "metadata": {
        "id": "28Td3OFtmkLM"
      },
      "execution_count": 34,
      "outputs": []
    },
    {
      "cell_type": "code",
      "source": [
        "x_train.iloc[0].shape"
      ],
      "metadata": {
        "colab": {
          "base_uri": "https://localhost:8080/"
        },
        "id": "o3sNg18xu4w2",
        "outputId": "e90c4542-6fe2-4f5d-aa69-970d8b3fdfbd"
      },
      "execution_count": 35,
      "outputs": [
        {
          "output_type": "execute_result",
          "data": {
            "text/plain": [
              "(3,)"
            ]
          },
          "metadata": {},
          "execution_count": 35
        }
      ]
    },
    {
      "cell_type": "code",
      "source": [
        "model = Sequential()\n",
        "\n",
        "model.add(Dense(3,input_shape=(x_train.shape[1],), activation='relu'))\n",
        "model.add(Dense(16, activation='relu'))\n",
        "model.add(Dense(2, activation='sigmoid'))\n",
        "model.compile(optimizer = 'adam',loss='binary_crossentropy', metrics =['accuracy'])\n",
        "model.fit(x_train, y_train, validation_data=(x_vald, y_vald),epochs =150 ,batch_size=2)"
      ],
      "metadata": {
        "colab": {
          "base_uri": "https://localhost:8080/"
        },
        "id": "XHo7HLtBm_pf",
        "outputId": "85de48e2-d1e3-44ce-a4f7-d84a6b6259cf"
      },
      "execution_count": 36,
      "outputs": [
        {
          "output_type": "stream",
          "name": "stdout",
          "text": [
            "Epoch 1/150\n",
            "133/133 [==============================] - 2s 8ms/step - loss: 0.7166 - accuracy: 0.6391 - val_loss: 0.6795 - val_accuracy: 0.7368\n",
            "Epoch 2/150\n",
            "133/133 [==============================] - 1s 5ms/step - loss: 0.6896 - accuracy: 0.6955 - val_loss: 0.6579 - val_accuracy: 0.7500\n",
            "Epoch 3/150\n",
            "133/133 [==============================] - 1s 5ms/step - loss: 0.6586 - accuracy: 0.7368 - val_loss: 0.6284 - val_accuracy: 0.7895\n",
            "Epoch 4/150\n",
            "133/133 [==============================] - 1s 6ms/step - loss: 0.6143 - accuracy: 0.7444 - val_loss: 0.5838 - val_accuracy: 0.8026\n",
            "Epoch 5/150\n",
            "133/133 [==============================] - 1s 6ms/step - loss: 0.5559 - accuracy: 0.7895 - val_loss: 0.5330 - val_accuracy: 0.8158\n",
            "Epoch 6/150\n",
            "133/133 [==============================] - 1s 5ms/step - loss: 0.4799 - accuracy: 0.8308 - val_loss: 0.4771 - val_accuracy: 0.8289\n",
            "Epoch 7/150\n",
            "133/133 [==============================] - 1s 5ms/step - loss: 0.4139 - accuracy: 0.8534 - val_loss: 0.4419 - val_accuracy: 0.8421\n",
            "Epoch 8/150\n",
            "133/133 [==============================] - 1s 4ms/step - loss: 0.3669 - accuracy: 0.8647 - val_loss: 0.4149 - val_accuracy: 0.8553\n",
            "Epoch 9/150\n",
            "133/133 [==============================] - 1s 6ms/step - loss: 0.3345 - accuracy: 0.8684 - val_loss: 0.3976 - val_accuracy: 0.8553\n",
            "Epoch 10/150\n",
            "133/133 [==============================] - 1s 5ms/step - loss: 0.3089 - accuracy: 0.8872 - val_loss: 0.3856 - val_accuracy: 0.8553\n",
            "Epoch 11/150\n",
            "133/133 [==============================] - 1s 6ms/step - loss: 0.2899 - accuracy: 0.8835 - val_loss: 0.3769 - val_accuracy: 0.8553\n",
            "Epoch 12/150\n",
            "133/133 [==============================] - 1s 5ms/step - loss: 0.2780 - accuracy: 0.8947 - val_loss: 0.3716 - val_accuracy: 0.8553\n",
            "Epoch 13/150\n",
            "133/133 [==============================] - 1s 4ms/step - loss: 0.2682 - accuracy: 0.9023 - val_loss: 0.3674 - val_accuracy: 0.8684\n",
            "Epoch 14/150\n",
            "133/133 [==============================] - 1s 6ms/step - loss: 0.2613 - accuracy: 0.9023 - val_loss: 0.3651 - val_accuracy: 0.8684\n",
            "Epoch 15/150\n",
            "133/133 [==============================] - 1s 5ms/step - loss: 0.2556 - accuracy: 0.9060 - val_loss: 0.3623 - val_accuracy: 0.8684\n",
            "Epoch 16/150\n",
            "133/133 [==============================] - 1s 4ms/step - loss: 0.2514 - accuracy: 0.9098 - val_loss: 0.3609 - val_accuracy: 0.8684\n",
            "Epoch 17/150\n",
            "133/133 [==============================] - 1s 6ms/step - loss: 0.2498 - accuracy: 0.9060 - val_loss: 0.3597 - val_accuracy: 0.8816\n",
            "Epoch 18/150\n",
            "133/133 [==============================] - 1s 4ms/step - loss: 0.2473 - accuracy: 0.9098 - val_loss: 0.3589 - val_accuracy: 0.8816\n",
            "Epoch 19/150\n",
            "133/133 [==============================] - 0s 4ms/step - loss: 0.2457 - accuracy: 0.9060 - val_loss: 0.3591 - val_accuracy: 0.8816\n",
            "Epoch 20/150\n",
            "133/133 [==============================] - 1s 6ms/step - loss: 0.2452 - accuracy: 0.9135 - val_loss: 0.3584 - val_accuracy: 0.8947\n",
            "Epoch 21/150\n",
            "133/133 [==============================] - 1s 5ms/step - loss: 0.2430 - accuracy: 0.9060 - val_loss: 0.3551 - val_accuracy: 0.8947\n",
            "Epoch 22/150\n",
            "133/133 [==============================] - 1s 8ms/step - loss: 0.2419 - accuracy: 0.9023 - val_loss: 0.3550 - val_accuracy: 0.8947\n",
            "Epoch 23/150\n",
            "133/133 [==============================] - 1s 5ms/step - loss: 0.2407 - accuracy: 0.9060 - val_loss: 0.3534 - val_accuracy: 0.8947\n",
            "Epoch 24/150\n",
            "133/133 [==============================] - 1s 5ms/step - loss: 0.2396 - accuracy: 0.9098 - val_loss: 0.3534 - val_accuracy: 0.8947\n",
            "Epoch 25/150\n",
            "133/133 [==============================] - 1s 4ms/step - loss: 0.2390 - accuracy: 0.9098 - val_loss: 0.3518 - val_accuracy: 0.8947\n",
            "Epoch 26/150\n",
            "133/133 [==============================] - 1s 7ms/step - loss: 0.2382 - accuracy: 0.9135 - val_loss: 0.3521 - val_accuracy: 0.8947\n",
            "Epoch 27/150\n",
            "133/133 [==============================] - 1s 5ms/step - loss: 0.2382 - accuracy: 0.9060 - val_loss: 0.3508 - val_accuracy: 0.8947\n",
            "Epoch 28/150\n",
            "133/133 [==============================] - 1s 6ms/step - loss: 0.2372 - accuracy: 0.9098 - val_loss: 0.3504 - val_accuracy: 0.8947\n",
            "Epoch 29/150\n",
            "133/133 [==============================] - 0s 3ms/step - loss: 0.2381 - accuracy: 0.9098 - val_loss: 0.3500 - val_accuracy: 0.8947\n",
            "Epoch 30/150\n",
            "133/133 [==============================] - 0s 2ms/step - loss: 0.2369 - accuracy: 0.9135 - val_loss: 0.3494 - val_accuracy: 0.9079\n",
            "Epoch 31/150\n",
            "133/133 [==============================] - 0s 2ms/step - loss: 0.2368 - accuracy: 0.9135 - val_loss: 0.3492 - val_accuracy: 0.8947\n",
            "Epoch 32/150\n",
            "133/133 [==============================] - 0s 2ms/step - loss: 0.2367 - accuracy: 0.9173 - val_loss: 0.3479 - val_accuracy: 0.9079\n",
            "Epoch 33/150\n",
            "133/133 [==============================] - 0s 2ms/step - loss: 0.2359 - accuracy: 0.9098 - val_loss: 0.3481 - val_accuracy: 0.8947\n",
            "Epoch 34/150\n",
            "133/133 [==============================] - 0s 2ms/step - loss: 0.2370 - accuracy: 0.9135 - val_loss: 0.3472 - val_accuracy: 0.9079\n",
            "Epoch 35/150\n",
            "133/133 [==============================] - 0s 2ms/step - loss: 0.2369 - accuracy: 0.9098 - val_loss: 0.3452 - val_accuracy: 0.9079\n",
            "Epoch 36/150\n",
            "133/133 [==============================] - 0s 2ms/step - loss: 0.2352 - accuracy: 0.9098 - val_loss: 0.3441 - val_accuracy: 0.8947\n",
            "Epoch 37/150\n",
            "133/133 [==============================] - 0s 2ms/step - loss: 0.2350 - accuracy: 0.9135 - val_loss: 0.3434 - val_accuracy: 0.8947\n",
            "Epoch 38/150\n",
            "133/133 [==============================] - 0s 2ms/step - loss: 0.2346 - accuracy: 0.9135 - val_loss: 0.3423 - val_accuracy: 0.9079\n",
            "Epoch 39/150\n",
            "133/133 [==============================] - 0s 2ms/step - loss: 0.2349 - accuracy: 0.9135 - val_loss: 0.3421 - val_accuracy: 0.8947\n",
            "Epoch 40/150\n",
            "133/133 [==============================] - 0s 2ms/step - loss: 0.2358 - accuracy: 0.9098 - val_loss: 0.3420 - val_accuracy: 0.9079\n",
            "Epoch 41/150\n",
            "133/133 [==============================] - 0s 2ms/step - loss: 0.2343 - accuracy: 0.9060 - val_loss: 0.3411 - val_accuracy: 0.9079\n",
            "Epoch 42/150\n",
            "133/133 [==============================] - 0s 2ms/step - loss: 0.2346 - accuracy: 0.9098 - val_loss: 0.3401 - val_accuracy: 0.8947\n",
            "Epoch 43/150\n",
            "133/133 [==============================] - 0s 2ms/step - loss: 0.2336 - accuracy: 0.9098 - val_loss: 0.3408 - val_accuracy: 0.8947\n",
            "Epoch 44/150\n",
            "133/133 [==============================] - 0s 2ms/step - loss: 0.2337 - accuracy: 0.9135 - val_loss: 0.3402 - val_accuracy: 0.8947\n",
            "Epoch 45/150\n",
            "133/133 [==============================] - 0s 2ms/step - loss: 0.2338 - accuracy: 0.9135 - val_loss: 0.3382 - val_accuracy: 0.8947\n",
            "Epoch 46/150\n",
            "133/133 [==============================] - 0s 2ms/step - loss: 0.2338 - accuracy: 0.9060 - val_loss: 0.3385 - val_accuracy: 0.8947\n",
            "Epoch 47/150\n",
            "133/133 [==============================] - 0s 2ms/step - loss: 0.2334 - accuracy: 0.9135 - val_loss: 0.3387 - val_accuracy: 0.8947\n",
            "Epoch 48/150\n",
            "133/133 [==============================] - 0s 2ms/step - loss: 0.2336 - accuracy: 0.9060 - val_loss: 0.3380 - val_accuracy: 0.8947\n",
            "Epoch 49/150\n",
            "133/133 [==============================] - 0s 2ms/step - loss: 0.2322 - accuracy: 0.9135 - val_loss: 0.3374 - val_accuracy: 0.8947\n",
            "Epoch 50/150\n",
            "133/133 [==============================] - 0s 2ms/step - loss: 0.2329 - accuracy: 0.9098 - val_loss: 0.3370 - val_accuracy: 0.9079\n",
            "Epoch 51/150\n",
            "133/133 [==============================] - 0s 2ms/step - loss: 0.2318 - accuracy: 0.9098 - val_loss: 0.3366 - val_accuracy: 0.8947\n",
            "Epoch 52/150\n",
            "133/133 [==============================] - 0s 2ms/step - loss: 0.2316 - accuracy: 0.9098 - val_loss: 0.3358 - val_accuracy: 0.8947\n",
            "Epoch 53/150\n",
            "133/133 [==============================] - 0s 2ms/step - loss: 0.2316 - accuracy: 0.9098 - val_loss: 0.3350 - val_accuracy: 0.8947\n",
            "Epoch 54/150\n",
            "133/133 [==============================] - 0s 2ms/step - loss: 0.2317 - accuracy: 0.9135 - val_loss: 0.3350 - val_accuracy: 0.8947\n",
            "Epoch 55/150\n",
            "133/133 [==============================] - 0s 2ms/step - loss: 0.2320 - accuracy: 0.9098 - val_loss: 0.3343 - val_accuracy: 0.8947\n",
            "Epoch 56/150\n",
            "133/133 [==============================] - 0s 2ms/step - loss: 0.2306 - accuracy: 0.9098 - val_loss: 0.3350 - val_accuracy: 0.8947\n",
            "Epoch 57/150\n",
            "133/133 [==============================] - 0s 2ms/step - loss: 0.2309 - accuracy: 0.9098 - val_loss: 0.3345 - val_accuracy: 0.8947\n",
            "Epoch 58/150\n",
            "133/133 [==============================] - 0s 2ms/step - loss: 0.2302 - accuracy: 0.9098 - val_loss: 0.3345 - val_accuracy: 0.8947\n",
            "Epoch 59/150\n",
            "133/133 [==============================] - 0s 2ms/step - loss: 0.2315 - accuracy: 0.9023 - val_loss: 0.3329 - val_accuracy: 0.9079\n",
            "Epoch 60/150\n",
            "133/133 [==============================] - 0s 2ms/step - loss: 0.2314 - accuracy: 0.9060 - val_loss: 0.3342 - val_accuracy: 0.8947\n",
            "Epoch 61/150\n",
            "133/133 [==============================] - 0s 2ms/step - loss: 0.2298 - accuracy: 0.9098 - val_loss: 0.3332 - val_accuracy: 0.8947\n",
            "Epoch 62/150\n",
            "133/133 [==============================] - 0s 2ms/step - loss: 0.2303 - accuracy: 0.9098 - val_loss: 0.3326 - val_accuracy: 0.8947\n",
            "Epoch 63/150\n",
            "133/133 [==============================] - 0s 2ms/step - loss: 0.2288 - accuracy: 0.9135 - val_loss: 0.3337 - val_accuracy: 0.8947\n",
            "Epoch 64/150\n",
            "133/133 [==============================] - 0s 2ms/step - loss: 0.2292 - accuracy: 0.9135 - val_loss: 0.3332 - val_accuracy: 0.8947\n",
            "Epoch 65/150\n",
            "133/133 [==============================] - 0s 2ms/step - loss: 0.2297 - accuracy: 0.9173 - val_loss: 0.3339 - val_accuracy: 0.8947\n",
            "Epoch 66/150\n",
            "133/133 [==============================] - 0s 2ms/step - loss: 0.2286 - accuracy: 0.9098 - val_loss: 0.3331 - val_accuracy: 0.8947\n",
            "Epoch 67/150\n",
            "133/133 [==============================] - 0s 2ms/step - loss: 0.2285 - accuracy: 0.9060 - val_loss: 0.3335 - val_accuracy: 0.8947\n",
            "Epoch 68/150\n",
            "133/133 [==============================] - 0s 2ms/step - loss: 0.2300 - accuracy: 0.9098 - val_loss: 0.3332 - val_accuracy: 0.8947\n",
            "Epoch 69/150\n",
            "133/133 [==============================] - 0s 2ms/step - loss: 0.2278 - accuracy: 0.9135 - val_loss: 0.3340 - val_accuracy: 0.8947\n",
            "Epoch 70/150\n",
            "133/133 [==============================] - 0s 2ms/step - loss: 0.2284 - accuracy: 0.9060 - val_loss: 0.3336 - val_accuracy: 0.8947\n",
            "Epoch 71/150\n",
            "133/133 [==============================] - 0s 2ms/step - loss: 0.2279 - accuracy: 0.9098 - val_loss: 0.3326 - val_accuracy: 0.8947\n",
            "Epoch 72/150\n",
            "133/133 [==============================] - 0s 2ms/step - loss: 0.2284 - accuracy: 0.9135 - val_loss: 0.3343 - val_accuracy: 0.8947\n",
            "Epoch 73/150\n",
            "133/133 [==============================] - 0s 2ms/step - loss: 0.2280 - accuracy: 0.9098 - val_loss: 0.3348 - val_accuracy: 0.8947\n",
            "Epoch 74/150\n",
            "133/133 [==============================] - 0s 2ms/step - loss: 0.2275 - accuracy: 0.9098 - val_loss: 0.3345 - val_accuracy: 0.8947\n",
            "Epoch 75/150\n",
            "133/133 [==============================] - 0s 2ms/step - loss: 0.2275 - accuracy: 0.9060 - val_loss: 0.3321 - val_accuracy: 0.8947\n",
            "Epoch 76/150\n",
            "133/133 [==============================] - 0s 2ms/step - loss: 0.2275 - accuracy: 0.9135 - val_loss: 0.3328 - val_accuracy: 0.8947\n",
            "Epoch 77/150\n",
            "133/133 [==============================] - 0s 2ms/step - loss: 0.2270 - accuracy: 0.9060 - val_loss: 0.3338 - val_accuracy: 0.8947\n",
            "Epoch 78/150\n",
            "133/133 [==============================] - 0s 2ms/step - loss: 0.2270 - accuracy: 0.9098 - val_loss: 0.3336 - val_accuracy: 0.8947\n",
            "Epoch 79/150\n",
            "133/133 [==============================] - 0s 2ms/step - loss: 0.2269 - accuracy: 0.9135 - val_loss: 0.3331 - val_accuracy: 0.8947\n",
            "Epoch 80/150\n",
            "133/133 [==============================] - 0s 2ms/step - loss: 0.2264 - accuracy: 0.9098 - val_loss: 0.3339 - val_accuracy: 0.8947\n",
            "Epoch 81/150\n",
            "133/133 [==============================] - 0s 2ms/step - loss: 0.2279 - accuracy: 0.9098 - val_loss: 0.3353 - val_accuracy: 0.8947\n",
            "Epoch 82/150\n",
            "133/133 [==============================] - 0s 2ms/step - loss: 0.2278 - accuracy: 0.9060 - val_loss: 0.3338 - val_accuracy: 0.8947\n",
            "Epoch 83/150\n",
            "133/133 [==============================] - 0s 2ms/step - loss: 0.2267 - accuracy: 0.9060 - val_loss: 0.3322 - val_accuracy: 0.8947\n",
            "Epoch 84/150\n",
            "133/133 [==============================] - 0s 2ms/step - loss: 0.2268 - accuracy: 0.9098 - val_loss: 0.3326 - val_accuracy: 0.8947\n",
            "Epoch 85/150\n",
            "133/133 [==============================] - 0s 2ms/step - loss: 0.2271 - accuracy: 0.9060 - val_loss: 0.3321 - val_accuracy: 0.8947\n",
            "Epoch 86/150\n",
            "133/133 [==============================] - 0s 2ms/step - loss: 0.2273 - accuracy: 0.9098 - val_loss: 0.3314 - val_accuracy: 0.8947\n",
            "Epoch 87/150\n",
            "133/133 [==============================] - 0s 2ms/step - loss: 0.2267 - accuracy: 0.9098 - val_loss: 0.3317 - val_accuracy: 0.8947\n",
            "Epoch 88/150\n",
            "133/133 [==============================] - 0s 2ms/step - loss: 0.2269 - accuracy: 0.9135 - val_loss: 0.3333 - val_accuracy: 0.8947\n",
            "Epoch 89/150\n",
            "133/133 [==============================] - 0s 2ms/step - loss: 0.2272 - accuracy: 0.9060 - val_loss: 0.3328 - val_accuracy: 0.8947\n",
            "Epoch 90/150\n",
            "133/133 [==============================] - 0s 2ms/step - loss: 0.2265 - accuracy: 0.9060 - val_loss: 0.3339 - val_accuracy: 0.8947\n",
            "Epoch 91/150\n",
            "133/133 [==============================] - 0s 2ms/step - loss: 0.2260 - accuracy: 0.9060 - val_loss: 0.3333 - val_accuracy: 0.8947\n",
            "Epoch 92/150\n",
            "133/133 [==============================] - 0s 2ms/step - loss: 0.2261 - accuracy: 0.9060 - val_loss: 0.3320 - val_accuracy: 0.8947\n",
            "Epoch 93/150\n",
            "133/133 [==============================] - 0s 2ms/step - loss: 0.2264 - accuracy: 0.9098 - val_loss: 0.3329 - val_accuracy: 0.8947\n",
            "Epoch 94/150\n",
            "133/133 [==============================] - 0s 2ms/step - loss: 0.2262 - accuracy: 0.9098 - val_loss: 0.3322 - val_accuracy: 0.8947\n",
            "Epoch 95/150\n",
            "133/133 [==============================] - 0s 2ms/step - loss: 0.2255 - accuracy: 0.9098 - val_loss: 0.3316 - val_accuracy: 0.8947\n",
            "Epoch 96/150\n",
            "133/133 [==============================] - 0s 2ms/step - loss: 0.2253 - accuracy: 0.9060 - val_loss: 0.3298 - val_accuracy: 0.8947\n",
            "Epoch 97/150\n",
            "133/133 [==============================] - 0s 2ms/step - loss: 0.2256 - accuracy: 0.9060 - val_loss: 0.3317 - val_accuracy: 0.8947\n",
            "Epoch 98/150\n",
            "133/133 [==============================] - 0s 2ms/step - loss: 0.2259 - accuracy: 0.9023 - val_loss: 0.3320 - val_accuracy: 0.8947\n",
            "Epoch 99/150\n",
            "133/133 [==============================] - 0s 2ms/step - loss: 0.2260 - accuracy: 0.9060 - val_loss: 0.3321 - val_accuracy: 0.8947\n",
            "Epoch 100/150\n",
            "133/133 [==============================] - 0s 2ms/step - loss: 0.2256 - accuracy: 0.9060 - val_loss: 0.3299 - val_accuracy: 0.8947\n",
            "Epoch 101/150\n",
            "133/133 [==============================] - 0s 2ms/step - loss: 0.2267 - accuracy: 0.9060 - val_loss: 0.3306 - val_accuracy: 0.8947\n",
            "Epoch 102/150\n",
            "133/133 [==============================] - 0s 2ms/step - loss: 0.2270 - accuracy: 0.9060 - val_loss: 0.3294 - val_accuracy: 0.8947\n",
            "Epoch 103/150\n",
            "133/133 [==============================] - 0s 2ms/step - loss: 0.2257 - accuracy: 0.9060 - val_loss: 0.3312 - val_accuracy: 0.8947\n",
            "Epoch 104/150\n",
            "133/133 [==============================] - 0s 2ms/step - loss: 0.2256 - accuracy: 0.9060 - val_loss: 0.3302 - val_accuracy: 0.8947\n",
            "Epoch 105/150\n",
            "133/133 [==============================] - 0s 2ms/step - loss: 0.2259 - accuracy: 0.9060 - val_loss: 0.3305 - val_accuracy: 0.8947\n",
            "Epoch 106/150\n",
            "133/133 [==============================] - 0s 2ms/step - loss: 0.2255 - accuracy: 0.9060 - val_loss: 0.3322 - val_accuracy: 0.8947\n",
            "Epoch 107/150\n",
            "133/133 [==============================] - 0s 2ms/step - loss: 0.2248 - accuracy: 0.9060 - val_loss: 0.3277 - val_accuracy: 0.8947\n",
            "Epoch 108/150\n",
            "133/133 [==============================] - 0s 2ms/step - loss: 0.2253 - accuracy: 0.9060 - val_loss: 0.3266 - val_accuracy: 0.8947\n",
            "Epoch 109/150\n",
            "133/133 [==============================] - 0s 2ms/step - loss: 0.2254 - accuracy: 0.9060 - val_loss: 0.3266 - val_accuracy: 0.8947\n",
            "Epoch 110/150\n",
            "133/133 [==============================] - 0s 2ms/step - loss: 0.2251 - accuracy: 0.9060 - val_loss: 0.3273 - val_accuracy: 0.8947\n",
            "Epoch 111/150\n",
            "133/133 [==============================] - 0s 2ms/step - loss: 0.2244 - accuracy: 0.9060 - val_loss: 0.3271 - val_accuracy: 0.8947\n",
            "Epoch 112/150\n",
            "133/133 [==============================] - 0s 2ms/step - loss: 0.2257 - accuracy: 0.9098 - val_loss: 0.3252 - val_accuracy: 0.8947\n",
            "Epoch 113/150\n",
            "133/133 [==============================] - 0s 2ms/step - loss: 0.2239 - accuracy: 0.9060 - val_loss: 0.3264 - val_accuracy: 0.8947\n",
            "Epoch 114/150\n",
            "133/133 [==============================] - 0s 2ms/step - loss: 0.2246 - accuracy: 0.9060 - val_loss: 0.3274 - val_accuracy: 0.8947\n",
            "Epoch 115/150\n",
            "133/133 [==============================] - 0s 2ms/step - loss: 0.2237 - accuracy: 0.9060 - val_loss: 0.3285 - val_accuracy: 0.8947\n",
            "Epoch 116/150\n",
            "133/133 [==============================] - 0s 2ms/step - loss: 0.2245 - accuracy: 0.9060 - val_loss: 0.3262 - val_accuracy: 0.8947\n",
            "Epoch 117/150\n",
            "133/133 [==============================] - 0s 2ms/step - loss: 0.2238 - accuracy: 0.9060 - val_loss: 0.3227 - val_accuracy: 0.8947\n",
            "Epoch 118/150\n",
            "133/133 [==============================] - 0s 2ms/step - loss: 0.2231 - accuracy: 0.9060 - val_loss: 0.3222 - val_accuracy: 0.8947\n",
            "Epoch 119/150\n",
            "133/133 [==============================] - 0s 2ms/step - loss: 0.2249 - accuracy: 0.9060 - val_loss: 0.3244 - val_accuracy: 0.8947\n",
            "Epoch 120/150\n",
            "133/133 [==============================] - 0s 2ms/step - loss: 0.2225 - accuracy: 0.9060 - val_loss: 0.3224 - val_accuracy: 0.8947\n",
            "Epoch 121/150\n",
            "133/133 [==============================] - 0s 2ms/step - loss: 0.2238 - accuracy: 0.9060 - val_loss: 0.3216 - val_accuracy: 0.8947\n",
            "Epoch 122/150\n",
            "133/133 [==============================] - 0s 2ms/step - loss: 0.2232 - accuracy: 0.9060 - val_loss: 0.3213 - val_accuracy: 0.8947\n",
            "Epoch 123/150\n",
            "133/133 [==============================] - 0s 2ms/step - loss: 0.2229 - accuracy: 0.9060 - val_loss: 0.3218 - val_accuracy: 0.8947\n",
            "Epoch 124/150\n",
            "133/133 [==============================] - 0s 2ms/step - loss: 0.2233 - accuracy: 0.9023 - val_loss: 0.3215 - val_accuracy: 0.8947\n",
            "Epoch 125/150\n",
            "133/133 [==============================] - 0s 2ms/step - loss: 0.2236 - accuracy: 0.9060 - val_loss: 0.3188 - val_accuracy: 0.8947\n",
            "Epoch 126/150\n",
            "133/133 [==============================] - 0s 2ms/step - loss: 0.2227 - accuracy: 0.9060 - val_loss: 0.3214 - val_accuracy: 0.8947\n",
            "Epoch 127/150\n",
            "133/133 [==============================] - 0s 2ms/step - loss: 0.2232 - accuracy: 0.9060 - val_loss: 0.3181 - val_accuracy: 0.8947\n",
            "Epoch 128/150\n",
            "133/133 [==============================] - 0s 2ms/step - loss: 0.2236 - accuracy: 0.8985 - val_loss: 0.3195 - val_accuracy: 0.8947\n",
            "Epoch 129/150\n",
            "133/133 [==============================] - 0s 2ms/step - loss: 0.2228 - accuracy: 0.9023 - val_loss: 0.3209 - val_accuracy: 0.8947\n",
            "Epoch 130/150\n",
            "133/133 [==============================] - 0s 2ms/step - loss: 0.2216 - accuracy: 0.9060 - val_loss: 0.3196 - val_accuracy: 0.8947\n",
            "Epoch 131/150\n",
            "133/133 [==============================] - 0s 2ms/step - loss: 0.2231 - accuracy: 0.9098 - val_loss: 0.3170 - val_accuracy: 0.9079\n",
            "Epoch 132/150\n",
            "133/133 [==============================] - 0s 2ms/step - loss: 0.2228 - accuracy: 0.9060 - val_loss: 0.3161 - val_accuracy: 0.9079\n",
            "Epoch 133/150\n",
            "133/133 [==============================] - 0s 2ms/step - loss: 0.2203 - accuracy: 0.9060 - val_loss: 0.3186 - val_accuracy: 0.8947\n",
            "Epoch 134/150\n",
            "133/133 [==============================] - 0s 2ms/step - loss: 0.2216 - accuracy: 0.9060 - val_loss: 0.3188 - val_accuracy: 0.8947\n",
            "Epoch 135/150\n",
            "133/133 [==============================] - 0s 2ms/step - loss: 0.2212 - accuracy: 0.9023 - val_loss: 0.3198 - val_accuracy: 0.8947\n",
            "Epoch 136/150\n",
            "133/133 [==============================] - 0s 2ms/step - loss: 0.2219 - accuracy: 0.9023 - val_loss: 0.3222 - val_accuracy: 0.8947\n",
            "Epoch 137/150\n",
            "133/133 [==============================] - 0s 2ms/step - loss: 0.2201 - accuracy: 0.9060 - val_loss: 0.3198 - val_accuracy: 0.8947\n",
            "Epoch 138/150\n",
            "133/133 [==============================] - 0s 2ms/step - loss: 0.2212 - accuracy: 0.9060 - val_loss: 0.3162 - val_accuracy: 0.8947\n",
            "Epoch 139/150\n",
            "133/133 [==============================] - 0s 2ms/step - loss: 0.2206 - accuracy: 0.9060 - val_loss: 0.3157 - val_accuracy: 0.8947\n",
            "Epoch 140/150\n",
            "133/133 [==============================] - 0s 2ms/step - loss: 0.2202 - accuracy: 0.9023 - val_loss: 0.3168 - val_accuracy: 0.8947\n",
            "Epoch 141/150\n",
            "133/133 [==============================] - 0s 2ms/step - loss: 0.2208 - accuracy: 0.9060 - val_loss: 0.3168 - val_accuracy: 0.8947\n",
            "Epoch 142/150\n",
            "133/133 [==============================] - 0s 2ms/step - loss: 0.2218 - accuracy: 0.9060 - val_loss: 0.3164 - val_accuracy: 0.8947\n",
            "Epoch 143/150\n",
            "133/133 [==============================] - 0s 2ms/step - loss: 0.2200 - accuracy: 0.9060 - val_loss: 0.3168 - val_accuracy: 0.8947\n",
            "Epoch 144/150\n",
            "133/133 [==============================] - 0s 2ms/step - loss: 0.2203 - accuracy: 0.9023 - val_loss: 0.3174 - val_accuracy: 0.8947\n",
            "Epoch 145/150\n",
            "133/133 [==============================] - 0s 2ms/step - loss: 0.2207 - accuracy: 0.9060 - val_loss: 0.3183 - val_accuracy: 0.8947\n",
            "Epoch 146/150\n",
            "133/133 [==============================] - 0s 2ms/step - loss: 0.2195 - accuracy: 0.9060 - val_loss: 0.3142 - val_accuracy: 0.8947\n",
            "Epoch 147/150\n",
            "133/133 [==============================] - 0s 2ms/step - loss: 0.2190 - accuracy: 0.9060 - val_loss: 0.3144 - val_accuracy: 0.8947\n",
            "Epoch 148/150\n",
            "133/133 [==============================] - 0s 2ms/step - loss: 0.2185 - accuracy: 0.9060 - val_loss: 0.3153 - val_accuracy: 0.8947\n",
            "Epoch 149/150\n",
            "133/133 [==============================] - 0s 2ms/step - loss: 0.2189 - accuracy: 0.9060 - val_loss: 0.3150 - val_accuracy: 0.8947\n",
            "Epoch 150/150\n",
            "133/133 [==============================] - 0s 2ms/step - loss: 0.2199 - accuracy: 0.9060 - val_loss: 0.3155 - val_accuracy: 0.8947\n"
          ]
        },
        {
          "output_type": "execute_result",
          "data": {
            "text/plain": [
              "<keras.callbacks.History at 0x7f3022513190>"
            ]
          },
          "metadata": {},
          "execution_count": 36
        }
      ]
    },
    {
      "cell_type": "code",
      "source": [
        "y_pred=model.predict(x_train)\n",
        "y_pred = (y_pred > 0.5) \n",
        "print(accuracy_score(y_train, y_pred, normalize=True))"
      ],
      "metadata": {
        "colab": {
          "base_uri": "https://localhost:8080/"
        },
        "id": "jGpCmNYa35PR",
        "outputId": "d6b3e120-0713-41f7-d490-dc11db4ea470"
      },
      "execution_count": 37,
      "outputs": [
        {
          "output_type": "stream",
          "name": "stdout",
          "text": [
            "9/9 [==============================] - 0s 2ms/step\n",
            "0.9060150375939849\n"
          ]
        }
      ]
    },
    {
      "cell_type": "code",
      "source": [
        "y_pred=model.predict(x_vald)\n",
        "y_pred = (y_pred > 0.5) \n",
        "print(accuracy_score(y_vald, y_pred, normalize=True))"
      ],
      "metadata": {
        "colab": {
          "base_uri": "https://localhost:8080/"
        },
        "id": "VlcnwuECgU3P",
        "outputId": "9219797d-513a-462f-8a91-d1f351e8e4fa"
      },
      "execution_count": 38,
      "outputs": [
        {
          "output_type": "stream",
          "name": "stdout",
          "text": [
            "3/3 [==============================] - 0s 4ms/step\n",
            "0.8947368421052632\n"
          ]
        }
      ]
    },
    {
      "cell_type": "code",
      "source": [
        "y_pred=model.predict(x_test)\n",
        "y_pred = (y_pred > 0.5) \n",
        "print(accuracy_score(y_test, y_pred, normalize=True))"
      ],
      "metadata": {
        "colab": {
          "base_uri": "https://localhost:8080/"
        },
        "id": "cyw83jw9ngv_",
        "outputId": "64bce913-32db-4ad7-87f2-2351cd6378ad"
      },
      "execution_count": 39,
      "outputs": [
        {
          "output_type": "stream",
          "name": "stdout",
          "text": [
            "2/2 [==============================] - 0s 4ms/step\n",
            "0.868421052631579\n"
          ]
        }
      ]
    }
  ]
}